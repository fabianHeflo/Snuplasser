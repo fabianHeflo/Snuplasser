{
 "cells": [
  {
   "cell_type": "code",
   "execution_count": 0,
   "metadata": {
    "application/vnd.databricks.v1+cell": {
     "cellMetadata": {
      "byteLimit": 2048000,
      "rowLimit": 10000
     },
     "inputWidgets": {},
     "nuid": "cd0968d3-30b8-44f7-a5ff-4cef0b0a913b",
     "showTitle": false,
     "tableResultSettingsMap": {},
     "title": ""
    }
   },
   "outputs": [],
   "source": [
    "%pip install -r /Workspace/Users/enes.topcu@kartverket.no/Snuplasser/requirements.txt\n"
   ]
  },
  {
   "cell_type": "code",
   "execution_count": 0,
   "metadata": {
    "application/vnd.databricks.v1+cell": {
     "cellMetadata": {
      "byteLimit": 2048000,
      "rowLimit": 10000
     },
     "inputWidgets": {},
     "nuid": "842bb717-e3a1-4dc4-a003-d9003c5e93b3",
     "showTitle": false,
     "tableResultSettingsMap": {},
     "title": ""
    }
   },
   "outputs": [],
   "source": [
    "pip list | grep lightning"
   ]
  },
  {
   "cell_type": "code",
   "execution_count": 0,
   "metadata": {
    "application/vnd.databricks.v1+cell": {
     "cellMetadata": {
      "byteLimit": 2048000,
      "rowLimit": 10000
     },
     "inputWidgets": {},
     "nuid": "ef2bb113-19f5-421a-ae7b-3a4cca320d50",
     "showTitle": false,
     "tableResultSettingsMap": {},
     "title": ""
    }
   },
   "outputs": [],
   "source": [
    "import sys\n",
    "sys.path.append(\"/Workspace/Users/enes.topcu@kartverket.no/Snuplasser/src\")\n",
    "from lightning.pytorch import LightningModule\n",
    "from model.deeplabv3_lightning import DeepLabV3Lightning\n",
    "\n",
    "\n",
    "# Doğru formatta bir config dict ver\n",
    "dummy_config = {\n",
    "    \"backbone\": \"resnet50\",\n",
    "    \"encoder_weights\": \"imagenet\",\n",
    "    \"in_channels\": 4,\n",
    "    \"num_classes\": 1,\n",
    "    \"lr\": 0.001\n",
    "}\n",
    "\n",
    "model = DeepLabV3Lightning(dummy_config)\n",
    "print(\"Base class:\", DeepLabV3Lightning.__bases__)\n",
    "print(\"Is LightningModule?\", isinstance(model, LightningModule))\n"
   ]
  },
  {
   "cell_type": "code",
   "execution_count": 0,
   "metadata": {
    "application/vnd.databricks.v1+cell": {
     "cellMetadata": {
      "byteLimit": 2048000,
      "rowLimit": 10000
     },
     "inputWidgets": {},
     "nuid": "86a062d2-ef6b-4e99-bc56-074339fcd784",
     "showTitle": false,
     "tableResultSettingsMap": {},
     "title": ""
    }
   },
   "outputs": [],
   "source": [
    "\n",
    "import sys\n",
    "sys.path.append(\"/Workspace/Users/enes.topcu@kartverket.no/Snuplasser/src\")\n",
    "\n",
    "import main\n",
    "import importlib\n",
    "importlib.reload(main)\n",
    "\n",
    "main.main(\"/Workspace/Users/enes.topcu@kartverket.no/Snuplasser/src/static.yaml\")\n"
   ]
  }
 ],
 "metadata": {
  "application/vnd.databricks.v1+notebook": {
   "computePreferences": null,
   "dashboards": [],
   "environmentMetadata": {
    "base_environment": "",
    "environment_version": "2"
   },
   "inputWidgetPreferences": null,
   "language": "python",
   "notebookMetadata": {
    "pythonIndentUnit": 4
   },
   "notebookName": "test_deeplabv3.ipynb",
   "widgets": {}
  },
  "language_info": {
   "name": "python"
  }
 },
 "nbformat": 4,
 "nbformat_minor": 0
}

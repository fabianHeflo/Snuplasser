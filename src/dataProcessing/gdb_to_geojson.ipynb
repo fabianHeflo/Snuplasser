{
 "cells": [
  {
   "cell_type": "code",
   "execution_count": 0,
   "metadata": {
    "application/vnd.databricks.v1+cell": {
     "cellMetadata": {},
     "inputWidgets": {},
     "nuid": "9e081631-63f9-42b4-aaf9-f2e4707ae9d6",
     "showTitle": false,
     "tableResultSettingsMap": {},
     "title": ""
    }
   },
   "outputs": [],
   "source": [
    "%pip install fiona"
   ]
  },
  {
   "cell_type": "code",
   "execution_count": 0,
   "metadata": {
    "application/vnd.databricks.v1+cell": {
     "cellMetadata": {},
     "inputWidgets": {},
     "nuid": "33f614ce-2fc9-4d89-9092-92c44a595011",
     "showTitle": false,
     "tableResultSettingsMap": {},
     "title": ""
    }
   },
   "outputs": [],
   "source": [
    "import geopandas as gpd\n",
    "import fiona\n",
    "from dotenv import load_dotenv\n",
    "import os\n",
    "from pathlib import Path"
   ]
  },
  {
   "cell_type": "code",
   "execution_count": 0,
   "metadata": {
    "application/vnd.databricks.v1+cell": {
     "cellMetadata": {},
     "inputWidgets": {},
     "nuid": "f73fdc5e-0ea1-47a4-a5d6-7f3da8cecff5",
     "showTitle": false,
     "tableResultSettingsMap": {},
     "title": ""
    }
   },
   "outputs": [],
   "source": [
    "GDB_PATH = \"\"  # Denne må settes til stien til GDB-filen\n",
    "\n",
    "GEOJSON_PATH = Path(\n",
    "    \"/Volumes/land_topografisk-gdb_dev/external_dev/static_data/DL_SNUPLASSER/turning_spaces.geojson\"\n",
    ")\n",
    "GEOJSON_PATH.mkdir(parents=True, exist_ok=True)\n",
    "\n",
    "\n",
    "def extract_turning_spaces_layers(gdb_path: str, output_path: str):\n",
    "    \"\"\"\n",
    "    Henter ut lag med snuplasser fra en GDB-fil og lagrer dem som GeoJSON.\n",
    "    Args:\n",
    "        gdb_path (str): Stien til GDB-filen.\n",
    "        output_path (str): Stien der GeoJSON-filen skal lagres.\n",
    "    \"\"\"\n",
    "    layers = fiona.listlayers(gdb_path)\n",
    "    target_layers = [\n",
    "        layer for layer in layers if layer.lower().startswith(\"snuplasser_areal\")\n",
    "    ]\n",
    "\n",
    "    for layer in target_layers:\n",
    "        gdf = gpd.read_file(gdb_path, layer=layer, engine=\"fiona\")\n",
    "        gdf_25833 = gdf.to_crs(epsg=25833)\n",
    "        gdf_25833.to_file(output_path, driver=\"GeoJSON\")\n",
    "\n",
    "\n",
    "if __name__ == \"__main__\":\n",
    "    extract_turning_spaces_layers(GDB_PATH, GEOJSON_PATH)"
   ]
  }
 ],
 "metadata": {
  "application/vnd.databricks.v1+notebook": {
   "computePreferences": null,
   "dashboards": [],
   "environmentMetadata": {
    "base_environment": "",
    "environment_version": "2"
   },
   "inputWidgetPreferences": null,
   "language": "python",
   "notebookMetadata": {
    "pythonIndentUnit": 4
   },
   "notebookName": "gdb_to_geojson",
   "widgets": {}
  },
  "language_info": {
   "name": "python"
  }
 },
 "nbformat": 4,
 "nbformat_minor": 0
}

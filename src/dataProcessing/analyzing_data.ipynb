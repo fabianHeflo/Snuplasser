{
 "cells": [
  {
   "cell_type": "code",
   "execution_count": 0,
   "metadata": {
    "application/vnd.databricks.v1+cell": {
     "cellMetadata": {
      "byteLimit": 2048000,
      "rowLimit": 10000
     },
     "inputWidgets": {},
     "nuid": "0e4b0bfd-ae4c-4426-95f8-02c1c4fea266",
     "showTitle": false,
     "tableResultSettingsMap": {},
     "title": ""
    }
   },
   "outputs": [],
   "source": [
    "import numpy as np\n",
    "import matplotlib.pyplot as plt\n",
    "from PIL import Image\n",
    "import os\n",
    "import sys"
   ]
  },
  {
   "cell_type": "code",
   "execution_count": 0,
   "metadata": {
    "application/vnd.databricks.v1+cell": {
     "cellMetadata": {
      "byteLimit": 2048000,
      "rowLimit": 10000
     },
     "inputWidgets": {},
     "nuid": "6a9b89e3-6c6c-4556-850e-fba565e26958",
     "showTitle": false,
     "tableResultSettingsMap": {},
     "title": ""
    }
   },
   "outputs": [],
   "source": [
    "image_path = \"/Volumes/land_topografisk-gdb_dev/external_dev/static_data/DL_SNUPLASSER/img/image_249322_6786313_249385_6786382.png\"\n",
    "dom_path = \"/Volumes/land_topografisk-gdb_dev/external_dev/static_data/DL_SNUPLASSER/dom/dom_249322_6786313_249385_6786382.png\"\n",
    "\n",
    "image = np.array(Image.open(image_path))\n",
    "dom = np.array(Image.open(dom_path))\n"
   ]
  },
  {
   "cell_type": "code",
   "execution_count": 0,
   "metadata": {
    "application/vnd.databricks.v1+cell": {
     "cellMetadata": {
      "byteLimit": 2048000,
      "rowLimit": 10000
     },
     "inputWidgets": {},
     "nuid": "0bcddf57-822e-4383-809f-93408b096413",
     "showTitle": false,
     "tableResultSettingsMap": {},
     "title": ""
    }
   },
   "outputs": [],
   "source": [
    "print(\"Image shape:\", image.shape)     # Bør være (H, W, 3)\n",
    "print(\"DOM shape:\", dom.shape)         # Bør være (H, W)\n",
    "\n",
    "print(\"RGB range:\", image.min(), \"-\", image.max())\n",
    "print(\"DOM range:\", dom.min(), \"-\", dom.max())\n"
   ]
  },
  {
   "cell_type": "code",
   "execution_count": 0,
   "metadata": {
    "application/vnd.databricks.v1+cell": {
     "cellMetadata": {
      "byteLimit": 2048000,
      "rowLimit": 10000
     },
     "inputWidgets": {},
     "nuid": "5b862e93-d318-46cd-88d7-105ad5dbe88d",
     "showTitle": false,
     "tableResultSettingsMap": {},
     "title": ""
    }
   },
   "outputs": [],
   "source": [
    "# Histogram av RGB-kanaler\n",
    "plt.figure(figsize=(12, 6))\n",
    "plt.subplot(1, 3, 1)\n",
    "plt.hist(image[..., 0].ravel(), bins=256, color='red', alpha=0.5, label='Red')\n",
    "plt.hist(image[..., 1].ravel(), bins=256, color='green', alpha=0.5, label='Green')\n",
    "plt.hist(image[..., 2].ravel(), bins=256, color='blue', alpha=0.5, label='Blue')\n",
    "plt.title('RGB Histogram')  \n",
    "plt.xlabel('Pixel Value')\n",
    "plt.ylabel('Frequency')\n",
    "plt.legend()\n",
    "# Histogram av DOM\n",
    "plt.subplot(1, 3, 2)\n",
    "plt.hist(dom.ravel(), bins=256, color='gray', alpha=0.7\n",
    ", label='DOM')\n",
    "plt.title('DOM Histogram')\n",
    "plt.xlabel('Pixel Value')\n",
    "plt.ylabel('Frequency') \n",
    "plt.legend()\n",
    "# Vis bilde og DOM\n",
    "plt.subplot(1, 3, 3)\n",
    "plt.imshow(image)\n",
    "plt.title('Image')\n",
    "plt.axis('off')\n",
    "plt.tight_layout()\n",
    "plt.show()\n"
   ]
  },
  {
   "cell_type": "code",
   "execution_count": 0,
   "metadata": {
    "application/vnd.databricks.v1+cell": {
     "cellMetadata": {
      "byteLimit": 2048000,
      "rowLimit": 10000
     },
     "inputWidgets": {},
     "nuid": "2aca1dc5-c946-4f19-92c3-213125cd02ea",
     "showTitle": false,
     "tableResultSettingsMap": {},
     "title": ""
    }
   },
   "outputs": [],
   "source": [
    "# DOM og image delt på 255\n",
    "dom_normalized = dom / 255.0\n",
    "image_normalized = image / 255.0\n",
    "\n",
    "# Plot DOM og image etter delt på 255\n",
    "# Histogram av RGB-kanaler\n",
    "plt.figure(figsize=(12, 6))\n",
    "plt.subplot(1, 3, 1)\n",
    "plt.hist(image_normalized[..., 0].ravel(), bins=256, color='red', alpha=0.5, label='Red')\n",
    "plt.hist(image_normalized[..., 1].ravel(), bins=256, color='green', alpha=0.5, label='Green')\n",
    "plt.hist(image_normalized[..., 2].ravel(), bins=256, color='blue', alpha=0.5, label='Blue')\n",
    "plt.title('RGB Histogram')  \n",
    "plt.xlabel('Pixel Value')\n",
    "plt.ylabel('Frequency')\n",
    "plt.legend()\n",
    "# Histogram av DOM\n",
    "plt.subplot(1, 3, 2)\n",
    "plt.hist(dom_normalized.ravel(), bins=256, color='gray', alpha=0.7, label='DOM')\n",
    "plt.title('DOM Histogram')\n",
    "plt.xlabel('Pixel Value')\n",
    "plt.ylabel('Frequency') \n",
    "plt.legend()"
   ]
  }
 ],
 "metadata": {
  "application/vnd.databricks.v1+notebook": {
   "computePreferences": null,
   "dashboards": [],
   "environmentMetadata": null,
   "inputWidgetPreferences": null,
   "language": "python",
   "notebookMetadata": {
    "pythonIndentUnit": 4
   },
   "notebookName": "analyzing_data",
   "widgets": {}
  },
  "kernelspec": {
   "display_name": ".venv",
   "language": "python",
   "name": "python3"
  },
  "language_info": {
   "name": "python"
  }
 },
 "nbformat": 4,
 "nbformat_minor": 0
}

{
 "cells": [
  {
   "cell_type": "code",
   "execution_count": 0,
   "metadata": {
    "application/vnd.databricks.v1+cell": {
     "cellMetadata": {
      "byteLimit": 2048000,
      "rowLimit": 10000
     },
     "inputWidgets": {},
     "nuid": "d49da2ab-8bcd-4953-8fe0-e6fa17a39336",
     "showTitle": false,
     "tableResultSettingsMap": {},
     "title": ""
    }
   },
   "outputs": [],
   "source": [
    "import albumentations as A\n",
    "from albumentations.pytorch import ToTensorV2"
   ]
  },
  {
   "cell_type": "code",
   "execution_count": 0,
   "metadata": {
    "application/vnd.databricks.v1+cell": {
     "cellMetadata": {
      "byteLimit": 2048000,
      "rowLimit": 10000
     },
     "inputWidgets": {},
     "nuid": "2269a741-0270-4f48-a7b9-bb0dca3bd045",
     "showTitle": false,
     "tableResultSettingsMap": {},
     "title": ""
    }
   },
   "outputs": [],
   "source": [
    "def get_train_transforms(cfg: dict, ratio: float | None = None):\n",
    "    if ratio is None:\n",
    "        return A.Compose([ToTensorV2()])\n",
    "\n",
    "    if ratio < 0 or ratio > 1:\n",
    "        raise ValueError(f\"Ratio must be between 0 and 1. Received: {ratio}\")\n",
    "\n",
    "    base_transform = A.Compose(\n",
    "        [\n",
    "            A.HorizontalFlip(p=cfg[\"flip_p\"]),\n",
    "            A.RandomRotate90(degrees=90),\n",
    "            A.RandomBrightnessContrast(\n",
    "                brightness=cfg[\"brightness_p\"]\n",
    "            ),  # Endringer i solforhold, årstid, skygge eller skydetthet\n",
    "            ToTensorV2(),\n",
    "        ]\n",
    "    )\n",
    "    return base_transform\n",
    "\n",
    "\n",
    "def get_val_transforms():\n",
    "    return A.Compose([ToTensorV2()])"
   ]
  }
 ],
 "metadata": {
  "application/vnd.databricks.v1+notebook": {
   "computePreferences": null,
   "dashboards": [],
   "environmentMetadata": {
    "base_environment": "",
    "environment_version": "2"
   },
   "inputWidgetPreferences": null,
   "language": "python",
   "notebookMetadata": {
    "pythonIndentUnit": 4
   },
   "notebookName": "transform",
   "widgets": {}
  },
  "language_info": {
   "name": "python"
  }
 },
 "nbformat": 4,
 "nbformat_minor": 0
}

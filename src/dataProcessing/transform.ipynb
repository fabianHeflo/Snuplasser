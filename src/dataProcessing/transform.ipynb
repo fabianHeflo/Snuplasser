{
 "cells": [
  {
   "cell_type": "code",
   "execution_count": 0,
   "metadata": {
    "application/vnd.databricks.v1+cell": {
     "cellMetadata": {
      "byteLimit": 2048000,
      "rowLimit": 10000
     },
     "inputWidgets": {},
     "nuid": "7f288d7e-9766-4aa9-8270-1cc72cd75f74",
     "showTitle": false,
     "tableResultSettingsMap": {},
     "title": ""
    }
   },
   "outputs": [],
   "source": [
    "%pip install --upgrade pydantic\n",
    "%pip install albumentations\n",
    "%pip install torch"
   ]
  },
  {
   "cell_type": "code",
   "execution_count": 0,
   "metadata": {
    "application/vnd.databricks.v1+cell": {
     "cellMetadata": {
      "byteLimit": 2048000,
      "rowLimit": 10000
     },
     "inputWidgets": {},
     "nuid": "8aae728f-9d66-46ad-a195-5f0043a9cbcc",
     "showTitle": false,
     "tableResultSettingsMap": {},
     "title": ""
    }
   },
   "outputs": [],
   "source": [
    "import albumentations as A\n",
    "from albumentations.pytorch import ToTensorV2\n",
    "\n",
    "\n",
    "# \"\"\"\n",
    "# Transformasjoner for trenings- og valideringsdata.\n",
    "# Valg:\n",
    "# - Ingen normalisering benyttes. Dette er bevisst for å unngå dataleakage og sikre at modellen fungerer på nye bilder uten behov for global statistikk.\n",
    "# - Augmentering gjøres kun under trening for å gjøre modellen robust mot variasjoner i solforhold, skyggemønster og bildeorientering.\n",
    "# - `ToTensorV2()` konverterer NumPy-arrays til PyTorch-tensorer, som forventet av modellen.\n",
    "# \"\"\""
   ]
  },
  {
   "cell_type": "code",
   "execution_count": 0,
   "metadata": {
    "application/vnd.databricks.v1+cell": {
     "cellMetadata": {
      "byteLimit": 2048000,
      "rowLimit": 10000
     },
     "inputWidgets": {},
     "nuid": "2269a741-0270-4f48-a7b9-bb0dca3bd045",
     "showTitle": false,
     "tableResultSettingsMap": {},
     "title": ""
    }
   },
   "outputs": [],
   "source": [
    "def get_train_transforms(cfg: dict, ratio: float | None = None):\n",
    "    if ratio is None:\n",
    "        return A.Compose([ToTensorV2()])\n",
    "\n",
    "        if ratio < 0 or ratio > 1:\n",
    "            raise ValueError(f\"Ratio must be between 0 and 1. Received: {ratio}\")\n",
    "\n",
    "    base_transform = A.Compose(\n",
    "        [\n",
    "            A.HorizontalFlip(p=cfg[\"flip_p\"]),\n",
    "            A.RandomRotate90(p=cfg[\"rot90_p\"]),\n",
    "            A.RandomBrightnessContrast(\n",
    "                p=cfg[\"brightness_p\"]\n",
    "            ),  # Endringer i solforhold, årstid, skygge eller skydetthet\n",
    "            ToTensorV2(),\n",
    "        ]\n",
    "    )\n",
    "\n",
    "    return A.OneOf(\n",
    "        [\n",
    "            base_transform,\n",
    "            A.NoOp(),\n",
    "        ],\n",
    "        p=ratio,\n",
    "    )\n",
    "\n",
    "\n",
    "def get_val_transforms():\n",
    "    return A.Compose([ToTensorV2()])"
   ]
  }
 ],
 "metadata": {
  "application/vnd.databricks.v1+notebook": {
   "computePreferences": null,
   "dashboards": [],
   "environmentMetadata": {
    "base_environment": "",
    "environment_version": "2"
   },
   "inputWidgetPreferences": null,
   "language": "python",
   "notebookMetadata": {
    "pythonIndentUnit": 4
   },
   "notebookName": "transform",
   "widgets": {}
  },
  "language_info": {
   "name": "python"
  }
 },
 "nbformat": 4,
 "nbformat_minor": 0
}

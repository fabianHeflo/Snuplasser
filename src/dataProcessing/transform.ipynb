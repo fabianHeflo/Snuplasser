{
 "cells": [
  {
   "cell_type": "code",
   "execution_count": 0,
   "metadata": {
    "application/vnd.databricks.v1+cell": {
     "cellMetadata": {
      "byteLimit": 2048000,
      "rowLimit": 10000
     },
     "inputWidgets": {},
     "nuid": "d49da2ab-8bcd-4953-8fe0-e6fa17a39336",
     "showTitle": false,
     "tableResultSettingsMap": {},
     "title": ""
    }
   },
   "outputs": [],
   "source": [
    "from torchvision import transforms"
   ]
  },
  {
   "cell_type": "code",
   "execution_count": 0,
   "metadata": {
    "application/vnd.databricks.v1+cell": {
     "cellMetadata": {
      "byteLimit": 2048000,
      "rowLimit": 10000
     },
     "inputWidgets": {},
     "nuid": "2269a741-0270-4f48-a7b9-bb0dca3bd045",
     "showTitle": false,
     "tableResultSettingsMap": {},
     "title": ""
    }
   },
   "outputs": [],
   "source": [
    "def get_train_transforms(cfg: dict, ratio: float | None = None):\n",
    "    if ratio is None:\n",
    "        return transforms.Compose([transforms.ToTensor()])\n",
    "\n",
    "    if ratio < 0 or ratio > 1:\n",
    "        raise ValueError(f\"Ratio must be between 0 and 1. Received: {ratio}\")\n",
    "\n",
    "    base_transform = transforms.Compose(\n",
    "        [\n",
    "            transforms.HorizontalFlip(p=cfg[\"flip_p\"]),\n",
    "            transforms.RandomRotate90(degrees=90),\n",
    "            transforms.RandomBrightnessContrast(\n",
    "                brightness=cfg[\"brightness_p\"]\n",
    "            ),  # Endringer i solforhold, årstid, skygge eller skydetthet\n",
    "            transforms.ToTensor(),\n",
    "        ]\n",
    "    )\n",
    "    return base_transform\n",
    "\n",
    "\n",
    "def get_val_transforms():\n",
    "    return transforms.Compose([transforms.ToTensor()])"
   ]
  }
 ],
 "metadata": {
  "application/vnd.databricks.v1+notebook": {
   "computePreferences": null,
   "dashboards": [],
   "environmentMetadata": {
    "base_environment": "",
    "environment_version": "2"
   },
   "inputWidgetPreferences": null,
   "language": "python",
   "notebookMetadata": {
    "pythonIndentUnit": 4
   },
   "notebookName": "transform",
   "widgets": {}
  },
  "language_info": {
   "name": "python"
  }
 },
 "nbformat": 4,
 "nbformat_minor": 0
}

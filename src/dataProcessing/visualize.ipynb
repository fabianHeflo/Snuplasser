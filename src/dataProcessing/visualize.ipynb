{
 "cells": [
  {
   "cell_type": "code",
   "execution_count": 0,
   "metadata": {
    "application/vnd.databricks.v1+cell": {
     "cellMetadata": {
      "byteLimit": 2048000,
      "rowLimit": 10000
     },
     "inputWidgets": {},
     "nuid": "c62c8fff-45f5-42cc-a75c-72972c5034ae",
     "showTitle": false,
     "tableResultSettingsMap": {},
     "title": ""
    }
   },
   "outputs": [],
   "source": [
    "%run ./transform"
   ]
  },
  {
   "cell_type": "code",
   "execution_count": 0,
   "metadata": {
    "application/vnd.databricks.v1+cell": {
     "cellMetadata": {
      "byteLimit": 2048000,
      "rowLimit": 10000
     },
     "inputWidgets": {},
     "nuid": "f8700082-388a-4cf4-b3ec-4b0f7d5d48d8",
     "showTitle": false,
     "tableResultSettingsMap": {},
     "title": ""
    }
   },
   "outputs": [],
   "source": [
    "import matplotlib.pyplot as plt\n",
    "import numpy as np\n",
    "from PIL import Image\n",
    "import sys\n",
    "import os\n",
    "\n",
    "from augmentation_config import augmentation_profiles"
   ]
  },
  {
   "cell_type": "code",
   "execution_count": 0,
   "metadata": {
    "application/vnd.databricks.v1+cell": {
     "cellMetadata": {
      "byteLimit": 2048000,
      "rowLimit": 10000
     },
     "inputWidgets": {},
     "nuid": "d041245e-c164-4caf-8e3f-a03e1e5bbf85",
     "showTitle": false,
     "tableResultSettingsMap": {},
     "title": ""
    }
   },
   "outputs": [],
   "source": [
    "def interactive_visualize(image_dir, mask_dir, dom_dir):\n",
    "    \"\"\"\n",
    "    Åpner et vindu der du kan bla i bilder, masker og DOM ved å trykke på piltastene.\n",
    "    \"\"\"\n",
    "    image_files = sorted([f for f in os.listdir(image_dir) if f.endswith(\".png\")])\n",
    "    fig, ax = plt.subplots(1, 3, figsize=(10, 5))\n",
    "    manager = getattr(fig.canvas, \"manager\", None)\n",
    "    if manager is not None and hasattr(manager, \"set_window_title\"):\n",
    "        manager.set_window_title(\"Trykk ⬅️ eller ➡️ for å bla\")\n",
    "    idx = [0]\n",
    "\n",
    "    def show(i):\n",
    "        image_path = os.path.join(image_dir, image_files[i])\n",
    "        mask_path = os.path.join(mask_dir, image_files[i].replace(\"image\", \"mask\"))\n",
    "        dom_path = os.path.join(dom_dir, image_files[i].replace(\"image\", \"dom\"))\n",
    "        img = Image.open(image_path)\n",
    "        mask = Image.open(mask_path)\n",
    "        dom = Image.open(dom_path)\n",
    "\n",
    "        ax[0].imshow(img)\n",
    "        ax[0].set_title(f\"Bilde: {image_files[i]}\")\n",
    "        ax[1].imshow(mask, cmap=\"gray\")\n",
    "        ax[1].set_title(\"Maske\")\n",
    "        ax[2].imshow(dom)\n",
    "        ax[2].set_title(\"DOM\")\n",
    "        for a in ax:\n",
    "            a.axis(\"off\")\n",
    "        fig.canvas.draw_idle()\n",
    "\n",
    "    def on_key(event):\n",
    "        if event.key == \"right\":\n",
    "            idx[0] = (idx[0] + 1) % len(image_files)\n",
    "            show(idx[0])\n",
    "        elif event.key == \"left\":\n",
    "            idx[0] = (idx[0] - 1) % len(image_files)\n",
    "            show(idx[0])\n",
    "        elif event.key == \"escape\":\n",
    "            plt.close(fig)\n",
    "\n",
    "    fig.canvas.mpl_connect(\"key_press_event\", on_key)\n",
    "    show(idx[0])\n",
    "    plt.tight_layout()\n",
    "    plt.show()\n",
    "\n",
    "\n",
    "def visualize_multiple_augmentations(image_path, mask_path, cfg_name=\"basic\", n=4):\n",
    "    \"\"\"Visualiserer flere augmentasjoner av et bilde og tilhørende maske.\"\"\"\n",
    "    image = np.array(Image.open(image_path).convert(\"RGB\"))\n",
    "    mask = np.array(Image.open(mask_path)) // 255\n",
    "    transform = get_train_transforms(augmentation_profiles[cfg_name])\n",
    "\n",
    "    fig, axes = plt.subplots(n, 2, figsize=(10, 5 * n))\n",
    "    if n == 1:\n",
    "        axes = [axes]\n",
    "\n",
    "    for i in range(n):\n",
    "        augmented = transform(image=image, mask=mask)\n",
    "        image_aug = augmented[\"image\"].permute(1, 2, 0).numpy()\n",
    "        mask_aug = augmented[\"mask\"].numpy()\n",
    "\n",
    "        axes[i][0].imshow(image_aug)\n",
    "        axes[i][0].set_title(f\"Augmentert bilde {i+1}\")\n",
    "        axes[i][1].imshow(mask_aug, cmap=\"gray\")\n",
    "        axes[i][1].set_title(f\"Maske {i+1}\")\n",
    "\n",
    "        for a in axes[i]:\n",
    "            a.axis(\"off\")\n",
    "\n",
    "    plt.tight_layout()\n",
    "    plt.show()\n",
    "\n",
    "\n",
    "if __name__ == \"__main__\":\n",
    "    visualize_multiple_augmentations(\n",
    "        image_path=\"/Volumes/land_topografisk-gdb_dev/external_dev/static_data/DL_SNUPLASSER/img/image_249322_6786313_249385_6786382.png\",\n",
    "        mask_path=\"/Volumes/land_topografisk-gdb_dev/external_dev/static_data/DL_SNUPLASSER/lab/mask_249322_6786313_249385_6786382.png\",\n",
    "        cfg_name=\"default\",  # Se augmentation_config.py\n",
    "    )\n"
   ]
  }
 ],
 "metadata": {
  "application/vnd.databricks.v1+notebook": {
   "computePreferences": null,
   "dashboards": [],
   "environmentMetadata": {
    "base_environment": "",
    "environment_version": "2"
   },
   "inputWidgetPreferences": null,
   "language": "python",
   "notebookMetadata": {
    "pythonIndentUnit": 4
   },
   "notebookName": "visualize",
   "widgets": {}
  },
  "language_info": {
   "name": "python"
  }
 },
 "nbformat": 4,
 "nbformat_minor": 0
}

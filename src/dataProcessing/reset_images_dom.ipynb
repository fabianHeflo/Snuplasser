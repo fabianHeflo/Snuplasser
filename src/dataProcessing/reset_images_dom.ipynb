{
 "cells": [
  {
   "cell_type": "code",
   "execution_count": 0,
   "metadata": {
    "application/vnd.databricks.v1+cell": {
     "cellMetadata": {
      "byteLimit": 2048000,
      "rowLimit": 10000
     },
     "inputWidgets": {},
     "nuid": "3e87a856-b09d-43a8-8379-b94b2617c1b8",
     "showTitle": false,
     "tableResultSettingsMap": {},
     "title": ""
    }
   },
   "outputs": [],
   "source": [
    "img_dir = \"/Volumes/land_topografisk-gdb_dev/external_dev/static_data/DL_SNUPLASSER/img/\"\n",
    "dom_dir = \"/Volumes/land_topografisk-gdb_dev/external_dev/static_data/DL_SNUPLASSER/dom/\"\n"
   ]
  },
  {
   "cell_type": "code",
   "execution_count": 0,
   "metadata": {
    "application/vnd.databricks.v1+cell": {
     "cellMetadata": {
      "byteLimit": 2048000,
      "rowLimit": 10000
     },
     "inputWidgets": {},
     "nuid": "f9fdfba2-6a32-4d30-8271-325baa267e21",
     "showTitle": false,
     "tableResultSettingsMap": {},
     "title": ""
    }
   },
   "outputs": [],
   "source": [
    "def clean_directory(path: str, file_extension: str = \".png\"):\n",
    "    files = dbutils.fs.ls(path)\n",
    "    to_delete = [f.path for f in files if f.path.endswith(file_extension)]\n",
    "\n",
    "    for file in to_delete:\n",
    "        dbutils.fs.rm(file)\n",
    "        print(f\"Slettet: {file}\")\n",
    "\n",
    "clean_directory(img_dir)\n",
    "clean_directory(dom_dir)"
   ]
  }
 ],
 "metadata": {
  "application/vnd.databricks.v1+notebook": {
   "computePreferences": null,
   "dashboards": [],
   "environmentMetadata": {
    "base_environment": "",
    "environment_version": "2"
   },
   "inputWidgetPreferences": null,
   "language": "python",
   "notebookMetadata": {
    "pythonIndentUnit": 4
   },
   "notebookName": "reset_images_dom",
   "widgets": {}
  },
  "language_info": {
   "name": "python"
  }
 },
 "nbformat": 4,
 "nbformat_minor": 0
}

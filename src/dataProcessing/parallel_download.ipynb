{
 "cells": [
  {
   "cell_type": "code",
   "execution_count": 0,
   "metadata": {
    "application/vnd.databricks.v1+cell": {
     "cellMetadata": {
      "byteLimit": 2048000,
      "rowLimit": 10000
     },
     "inputWidgets": {},
     "nuid": "55159589-3b78-41ec-b6c3-a0322195c387",
     "showTitle": false,
     "tableResultSettingsMap": {},
     "title": ""
    }
   },
   "outputs": [],
   "source": [
    "# Databricks Notebook: Parallell nedlasting av ortofoto, DOM og maskegenerering\n",
    "\n",
    "import os\n",
    "import numpy as np\n",
    "import geopandas as gpd\n",
    "from PIL import Image\n",
    "from io import BytesIO\n",
    "import urllib.request\n",
    "from shapely.geometry import box\n",
    "from rasterio.features import rasterize\n",
    "from rasterio.transform import from_bounds\n",
    "from pathlib import Path\n",
    "from concurrent.futures import ThreadPoolExecutor, as_completed\n",
    "import src.config as cfg"
   ]
  },
  {
   "cell_type": "code",
   "execution_count": 0,
   "metadata": {
    "application/vnd.databricks.v1+cell": {
     "cellMetadata": {
      "byteLimit": 2048000,
      "rowLimit": 10000
     },
     "inputWidgets": {},
     "nuid": "0345189c-022e-4fb1-98b5-34028dbd662b",
     "showTitle": false,
     "tableResultSettingsMap": {},
     "title": ""
    }
   },
   "outputs": [],
   "source": [
    "# === Konfigurasjon ===\n",
    "IMAGE_SIZE = (512, 512)\n",
    "BASE_IMAGE_URL = \"https://wms.geonorge.no/skwms1/wms/ortofoto\"\n",
    "BASE_DOM_URL = \"https://wms.geonorge.no/skwms1/wms\"\n",
    "SECRET_TOKEN = cfg.SECRET_TOKEN\n",
    "GEOJSON_PATH = \"/Volumes/land_topografisk-gdb_dev/external_dev/static_data/DL_SNUPLASSER/raw_geojson/turning_spaces.geojson\"\n",
    "\n",
    "IMG_DIR = \"/Volumes/land_topografisk-gdb_dev/external_dev/static_data/DL_SNUPLASSER/img\"\n",
    "DOM_DIR = \"/Volumes/land_topografisk-gdb_dev/external_dev/static_data/DL_SNUPLASSER/dom\"\n",
    "MASK_DIR = \"/Volumes/land_topografisk-gdb_dev/external_dev/static_data/DL_SNUPLASSER/lab\"\n",
    "\n",
    "os.makedirs(IMG_DIR, exist_ok=True)\n",
    "os.makedirs(DOM_DIR, exist_ok=True)\n",
    "os.makedirs(MASK_DIR, exist_ok=True)"
   ]
  },
  {
   "cell_type": "code",
   "execution_count": 0,
   "metadata": {
    "application/vnd.databricks.v1+cell": {
     "cellMetadata": {
      "byteLimit": 2048000,
      "rowLimit": 10000
     },
     "inputWidgets": {},
     "nuid": "574bc66c-9cad-4378-baff-aba09d61316a",
     "showTitle": false,
     "tableResultSettingsMap": {},
     "title": ""
    }
   },
   "outputs": [],
   "source": [
    "# === URL-generator ===\n",
    "def get_url(bbox, token, dom=False):\n",
    "    bbox_str = \",\".join(map(str, bbox))\n",
    "    w, h = IMAGE_SIZE\n",
    "    if dom:\n",
    "        return f\"{BASE_DOM_URL}-dom-nhm-25833&TICKET={token}&request=GetMap&Format=image/png&GetFeatureInfo=text/plain&CRS=EPSG:25833&Layers=NHM_DOM_25833:skyggerelieff&BBox={bbox_str}&width={w}&height={h}\"\n",
    "    else:\n",
    "        return f\"{BASE_IMAGE_URL}?VERSION=1.3.0&TICKET={token}&service=WMS&request=GetMap&Format=image/png&GetFeatureInfo=text/plain&CRS=EPSG:25833&Layers=ortofoto&BBox={bbox_str}&width={w}&height={h}\""
   ]
  },
  {
   "cell_type": "code",
   "execution_count": 0,
   "metadata": {
    "application/vnd.databricks.v1+cell": {
     "cellMetadata": {
      "byteLimit": 2048000,
      "rowLimit": 10000
     },
     "inputWidgets": {},
     "nuid": "7312fea3-76f3-43a0-9f9e-18812aa74c20",
     "showTitle": false,
     "tableResultSettingsMap": {},
     "title": ""
    }
   },
   "outputs": [],
   "source": [
    "# === Last ned og prosesser en enkelt bbox ===\n",
    "def process_bbox(index_bbox):\n",
    "    idx, bbox = index_bbox\n",
    "    try:\n",
    "        bbox_str = \"_\".join(map(lambda x: str(int(x)), bbox))\n",
    "        img_path = f\"{IMG_DIR}/image_{bbox_str}.png\"\n",
    "        dom_path = f\"{DOM_DIR}/dom_{bbox_str}.png\"\n",
    "        mask_path = f\"{MASK_DIR}/mask_{bbox_str}.png\"\n",
    "\n",
    "        # Hopp over om alt finnes\n",
    "        if os.path.exists(img_path) and os.path.exists(dom_path) and os.path.exists(mask_path):\n",
    "            return f\"⏭️ Hopper over {bbox_str}\"\n",
    "\n",
    "        # Nedlasting\n",
    "        for url, out_path, rgb in [\n",
    "            (get_url(bbox, SECRET_TOKEN, dom=False), img_path, \"RGB\"),\n",
    "            (get_url(bbox, SECRET_TOKEN, dom=True), dom_path, \"L\")\n",
    "        ]:\n",
    "            with urllib.request.urlopen(url) as response:\n",
    "                img = Image.open(BytesIO(response.read())).convert(rgb)\n",
    "                img.save(out_path)\n",
    "\n",
    "        # Maske\n",
    "        gdf = gpd.read_file(GEOJSON_PATH).to_crs(\"EPSG:25833\")\n",
    "        transform = from_bounds(*bbox, width=IMAGE_SIZE[0], height=IMAGE_SIZE[1])\n",
    "        geom_clip = gdf[gdf.geometry.intersects(box(*bbox))].geometry\n",
    "        if geom_clip.empty:\n",
    "            mask = np.zeros((IMAGE_SIZE[1], IMAGE_SIZE[0]), dtype=np.uint8)\n",
    "        else:\n",
    "            mask = rasterize(\n",
    "                [(geom, 1) for geom in geom_clip],\n",
    "                out_shape=(IMAGE_SIZE[1], IMAGE_SIZE[0]),\n",
    "                transform=transform,\n",
    "                fill=0,\n",
    "                dtype=\"uint8\",\n",
    "            )\n",
    "        Image.fromarray(mask * 255).save(mask_path)\n",
    "        return f\"✅ Lagret {bbox_str}\"\n",
    "    except Exception as e:\n",
    "        return f\"❌ Feil {idx}: {e}\""
   ]
  },
  {
   "cell_type": "code",
   "execution_count": 0,
   "metadata": {
    "application/vnd.databricks.v1+cell": {
     "cellMetadata": {
      "byteLimit": 2048000,
      "rowLimit": 10000
     },
     "inputWidgets": {},
     "nuid": "57b0f231-b561-4502-a6fb-d6947aa10ff3",
     "showTitle": false,
     "tableResultSettingsMap": {},
     "title": ""
    }
   },
   "outputs": [],
   "source": [
    "# === Hent bbox ===\n",
    "gdf = gpd.read_file(GEOJSON_PATH).to_crs(\"EPSG:25833\")\n",
    "def make_bbox(poly, buffer=20):\n",
    "    minx, miny, maxx, maxy = poly.bounds\n",
    "    return [minx - buffer, miny - buffer, maxx + buffer, maxy + buffer]\n",
    "\n",
    "bbox_list = [(i, make_bbox(row.geometry)) for i, row in gdf.iterrows()]\n",
    "\n",
    "# === Kjør parallelt ===\n",
    "print(f\"🔄 Starter nedlasting av {len(bbox_list)} bboxes...\")\n",
    "\n",
    "results = []\n",
    "with ThreadPoolExecutor() as executor:  # bruker automatisk optimalisert antall tråder\n",
    "    futures = [executor.submit(process_bbox, pair) for pair in bbox_list]\n",
    "    for f in as_completed(futures):\n",
    "        results.append(f.result())\n",
    "        \n",
    "print(f\"\\n📝 Ferdig. Resultater:\")\n",
    "for r in results:\n",
    "    print(r)"
   ]
  }
 ],
 "metadata": {
  "application/vnd.databricks.v1+notebook": {
   "computePreferences": null,
   "dashboards": [],
   "environmentMetadata": {
    "base_environment": "",
    "environment_version": "2"
   },
   "inputWidgetPreferences": null,
   "language": "python",
   "notebookMetadata": {
    "pythonIndentUnit": 4
   },
   "notebookName": "parallel_download",
   "widgets": {}
  },
  "language_info": {
   "name": "python"
  }
 },
 "nbformat": 4,
 "nbformat_minor": 0
}

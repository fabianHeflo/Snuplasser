{
 "cells": [
  {
   "cell_type": "code",
   "execution_count": 0,
   "metadata": {
    "application/vnd.databricks.v1+cell": {
     "cellMetadata": {},
     "inputWidgets": {},
     "nuid": "51c7498c-3558-4f85-9379-ce5ed02104d8",
     "showTitle": false,
     "tableResultSettingsMap": {},
     "title": ""
    }
   },
   "outputs": [],
   "source": [
    "from pyspark.sql import SparkSession\n",
    "from pyspark.sql.functions import *\n",
    "from pyspark.sql.types import StructType, StructField, StringType, DoubleType, TimestampType\n",
    "from delta.tables import DeltaTable\n",
    "from datetime import datetime\n",
    "import time\n",
    "import pandas as pd\n",
    "import requests\n",
    "import os\n",
    "import getpass\n",
    "from pathlib import Path\n"
   ]
  },
  {
   "cell_type": "code",
   "execution_count": 0,
   "metadata": {
    "application/vnd.databricks.v1+cell": {
     "cellMetadata": {},
     "inputWidgets": {},
     "nuid": "7fd502c2-e63e-46dc-a6d6-edee0406daa7",
     "showTitle": false,
     "tableResultSettingsMap": {},
     "title": ""
    }
   },
   "outputs": [],
   "source": [
    "catalog_dev = \"land_topografisk-gdb_dev\"\n",
    "schema_dev = \"ai2025\"\n",
    "\n",
    "bronze_table = f\"{catalog_dev}.{schema_dev}.endepunkt_bronze\"\n",
    "log_table = f\"{catalog_dev}.{schema_dev}.logs_processed_endepunkter\"\n",
    "\n",
    "kommune_id = \"0000\"  # Bytt ut med ønsket kommune ID. Løsning for å fra alle kommuner uten å specifisere ID? "
   ]
  },
  {
   "cell_type": "code",
   "execution_count": 0,
   "metadata": {
    "application/vnd.databricks.v1+cell": {
     "cellMetadata": {},
     "inputWidgets": {},
     "nuid": "e2311608-632b-4758-9f88-e54878b7d5b5",
     "showTitle": false,
     "tableResultSettingsMap": {},
     "title": ""
    }
   },
   "outputs": [],
   "source": [
    "spark.sql(f\"USE CATALOG {catalog_dev}\")\n",
    "spark.sql(f\"CREATE SCHEMA IF NOT EXISTS {schema_dev}\")\n",
    "spark.sql(f\"USE SCHEMA {schema_dev}\")"
   ]
  },
  {
   "cell_type": "code",
   "execution_count": 0,
   "metadata": {
    "application/vnd.databricks.v1+cell": {
     "cellMetadata": {},
     "inputWidgets": {},
     "nuid": "aa2f4b5d-8f5c-4af3-8e97-9524b9c74a78",
     "showTitle": false,
     "tableResultSettingsMap": {},
     "title": ""
    }
   },
   "outputs": [],
   "source": [
    "spark.sql(f\"\"\"\n",
    "CREATE TABLE IF NOT EXISTS {bronze_table} (\n",
    "    nodeid STRING,\n",
    "    x DOUBLE,\n",
    "    y DOUBLE,\n",
    "    wkt STRING,\n",
    "    kommune_id STRING,\n",
    "    hentet_tid TIMESTAMP,\n",
    "    row_hash STRING\n",
    ") USING DELTA\n",
    "\"\"\")"
   ]
  },
  {
   "cell_type": "code",
   "execution_count": 0,
   "metadata": {
    "application/vnd.databricks.v1+cell": {
     "cellMetadata": {},
     "inputWidgets": {},
     "nuid": "d07784f4-aa16-4321-af81-9eb74307b30c",
     "showTitle": false,
     "tableResultSettingsMap": {},
     "title": ""
    }
   },
   "outputs": [],
   "source": [
    "spark.sql(f\"\"\"\n",
    "CREATE TABLE IF NOT EXISTS {log_table} (\n",
    "    kommune_id STRING,\n",
    "    processed_time TIMESTAMP,\n",
    "    num_inserted INT\n",
    ") USING DELTA\n",
    "\"\"\")"
   ]
  },
  {
   "cell_type": "code",
   "execution_count": 0,
   "metadata": {
    "application/vnd.databricks.v1+cell": {
     "cellMetadata": {},
     "inputWidgets": {},
     "nuid": "9fee6575-a446-4ca4-9a23-5b815e72b6c7",
     "showTitle": false,
     "tableResultSettingsMap": {},
     "title": ""
    }
   },
   "outputs": [],
   "source": [
    "def hent_wkt_koordinater(nodeid, srid=\"UTM33\"):\n",
    "    url = f\"https://nvdbapiles.atlas.vegvesen.no/vegnett/api/v4/noder/{nodeid}\"\n",
    "    headers = {\n",
    "        \"Accept\": \"application/json\",\n",
    "        \"X-Client\": \"Systemet for vegobjekter\",\n",
    "    }\n",
    "    params = {\"srid\": srid}\n",
    "\n",
    "    try:\n",
    "        response = requests.get(url, headers=headers, params=params, timeout=10)\n",
    "        time.sleep(0.2)  # unngå blokkering\n",
    "        response.raise_for_status()\n",
    "        data = response.json()\n",
    "\n",
    "        porter = data.get(\"porter\", [])\n",
    "        if len(porter) == 1:\n",
    "            portnummer = porter[0].get(\"tilkobling\", {}).get(\"portnummer\")\n",
    "            er_ekte = portnummer == 1 or portnummer == 2\n",
    "        else:\n",
    "            er_ekte = False\n",
    "\n",
    "        wkt = data.get(\"geometri\", {}).get(\"wkt\")\n",
    "        if wkt and wkt.startswith(\"POINT Z\"):\n",
    "            coords = wkt.replace(\"POINT Z\", \"\").replace(\"(\", \"\").replace(\")\", \"\").split()\n",
    "            x, y = float(coords[0]), float(coords[1])\n",
    "        else:\n",
    "            x, y = None, None\n",
    "\n",
    "        return er_ekte, wkt, x, y\n",
    "\n",
    "    except Exception as e:\n",
    "        print(f\"[{nodeid}] Feil ved henting av data: {e}\")\n",
    "        return False, None, None, None"
   ]
  },
  {
   "cell_type": "code",
   "execution_count": 0,
   "metadata": {
    "application/vnd.databricks.v1+cell": {
     "cellMetadata": {},
     "inputWidgets": {},
     "nuid": "f193288d-61e8-4b06-8436-4c6f4b06fef0",
     "showTitle": false,
     "tableResultSettingsMap": {},
     "title": ""
    }
   },
   "outputs": [],
   "source": [
    "def hent_skogsbilveier_og_noder(kommune_id: str, antall_per_side: int = 1000) -> pd.DataFrame:\n",
    "    url = \"https://nvdbapiles.atlas.vegvesen.no/vegnett/api/v4/veglenkesekvenser\"\n",
    "    headers = {\"Accept\": \"application/json\", \"X-Client\": \"Snuplasser\"}\n",
    "    params = {\n",
    "        \"kommune\": kommune_id,\n",
    "        \"vegsystemreferanse\": \"S\",\n",
    "        \"antall\": antall_per_side,\n",
    "        \"topologiNiva\": \"alle\"\n",
    "    }\n",
    "\n",
    "    alle_objekter = []\n",
    "    while True:\n",
    "        respons = requests.get(url, headers=headers, params=params)\n",
    "        respons.raise_for_status()\n",
    "        data = respons.json()\n",
    "        time.sleep(0.2)  # Pause for å unngå blokkering\n",
    "        alle_objekter.extend(data.get(\"objekter\", []))\n",
    "        neste = data.get(\"metadata\", {}).get(\"neste\", {}).get(\"start\")\n",
    "        if not neste:\n",
    "            break\n",
    "        params[\"start\"] = neste\n",
    "\n",
    "    radliste = []\n",
    "    for obj in alle_objekter:\n",
    "        veglenkesekvensid = obj.get(\"veglenkesekvensid\")\n",
    "        href = obj.get(\"href\")\n",
    "        lengde = obj.get(\"lengde\")\n",
    "        porter = obj.get(\"porter\", [])\n",
    "        for p in porter:\n",
    "            nodeid = p.get(\"tilkobling\", {}).get(\"nodeid\")\n",
    "            if nodeid is not None:\n",
    "                radliste.append(\n",
    "                    {\n",
    "                        \"veglenkesekvensid\": veglenkesekvensid,\n",
    "                        \"nodeid\": nodeid,\n",
    "                        \"href\": href,\n",
    "                        \"lengde\": lengde,\n",
    "                    }\n",
    "                )\n",
    "\n",
    "    return pd.DataFrame(radliste)"
   ]
  }
 ],
 "metadata": {
  "application/vnd.databricks.v1+notebook": {
   "computePreferences": null,
   "dashboards": [],
   "environmentMetadata": {
    "base_environment": "",
    "environment_version": "2"
   },
   "inputWidgetPreferences": null,
   "language": "python",
   "notebookMetadata": {
    "pythonIndentUnit": 4
   },
   "notebookName": "endepunkt_bronze",
   "widgets": {}
  },
  "language_info": {
   "name": "python"
  }
 },
 "nbformat": 4,
 "nbformat_minor": 0
}

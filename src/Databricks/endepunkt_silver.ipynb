{
 "cells": [
  {
   "cell_type": "code",
   "execution_count": 0,
   "metadata": {
    "application/vnd.databricks.v1+cell": {
     "cellMetadata": {
      "byteLimit": 2048000,
      "rowLimit": 10000
     },
     "inputWidgets": {},
     "nuid": "8f3216c2-0058-471a-9750-ad2fe9e1a386",
     "showTitle": false,
     "tableResultSettingsMap": {},
     "title": ""
    }
   },
   "outputs": [],
   "source": [
    "%pip install python-dotenv"
   ]
  },
  {
   "cell_type": "code",
   "execution_count": 0,
   "metadata": {
    "application/vnd.databricks.v1+cell": {
     "cellMetadata": {
      "byteLimit": 2048000,
      "rowLimit": 10000
     },
     "inputWidgets": {},
     "nuid": "c40d2faf-3d30-44ac-846b-d5bbf7bb6691",
     "showTitle": false,
     "tableResultSettingsMap": {},
     "title": ""
    }
   },
   "outputs": [],
   "source": [
    "from pyspark.sql import SparkSession\n",
    "from pyspark.sql.functions import *\n",
    "from pyspark.sql.types import StructType, StructField, StringType, IntegerType\n",
    "from pyspark.sql.window import Window\n",
    "from delta.tables import DeltaTable\n",
    "import requests\n",
    "import time\n",
    "from pathlib import Path\n",
    "import os"
   ]
  },
  {
   "cell_type": "code",
   "execution_count": 0,
   "metadata": {
    "application/vnd.databricks.v1+cell": {
     "cellMetadata": {
      "byteLimit": 2048000,
      "rowLimit": 10000
     },
     "inputWidgets": {},
     "nuid": "eae7089e-f8a0-44d1-8ef3-69724537f6b9",
     "showTitle": false,
     "tableResultSettingsMap": {},
     "title": ""
    }
   },
   "outputs": [],
   "source": [
    "spark = SparkSession.builder.getOrCreate()\n",
    "catalog_dev = \"`land_topografisk-gdb_dev`\"\n",
    "schema_dev = \"ai2025\"\n",
    "spark.sql(f\"USE CATALOG {catalog_dev}\")\n",
    "spark.sql(f\"USE SCHEMA {schema_dev}\")\n",
    "\n",
    "bronze_table = f\"{catalog_dev}.{schema_dev}.endepunkt_bronze\"\n",
    "silver_table = f\"{catalog_dev}.{schema_dev}.endepunkt_silver\"\n",
    "buffer = 20"
   ]
  },
  {
   "cell_type": "code",
   "execution_count": 0,
   "metadata": {
    "application/vnd.databricks.v1+cell": {
     "cellMetadata": {
      "byteLimit": 2048000,
      "rowLimit": 10000
     },
     "inputWidgets": {},
     "nuid": "d78621ec-fa17-41d2-bf14-acd06566bca4",
     "showTitle": false,
     "tableResultSettingsMap": {},
     "title": ""
    }
   },
   "outputs": [],
   "source": [
    "def generate_dom_url(bbox):\n",
    "    bbox_str = \".\".join(map(str, bbox))\n",
    "    width, height = [512, 512]\n",
    "    return (\n",
    "        f\"https://wms.geonorge.no/skwms1/wms.hoyde-dom-nhm-25833?request=GetMap&Format=image/png&\"\n",
    "        f\"GetFeatureInfo=text/plain&CRS=EPSG:25833&Layers=NHM_DOM_25833:skyggerelieff&\"\n",
    "        f\"BBOX={bbox_str}&width={width}&height={height}\"\n",
    "    )\n",
    "\n",
    "generate_dom_url_udf = udf(generate_dom_url, StringType())\n",
    "\n",
    "def dom_file_exists(nodeid: str) -> str:\n",
    "    path = f\"/Volumes/land_topografisk-gdb_dev/external_dev/static_data/DL_SNUPLASSER/endepunkt_dom/{nodeid}.png\"\n",
    "    return \"DOWNLOADED\" if os.path.exists(path) else \"PENDING\"\n",
    "\n",
    "dom_file_status_udf = udf(dom_file_exists, StringType())"
   ]
  },
  {
   "cell_type": "code",
   "execution_count": 0,
   "metadata": {
    "application/vnd.databricks.v1+cell": {
     "cellMetadata": {
      "byteLimit": 2048000,
      "rowLimit": 10000
     },
     "inputWidgets": {},
     "nuid": "95f430a3-07b4-4b96-91e1-365918965714",
     "showTitle": false,
     "tableResultSettingsMap": {},
     "title": ""
    }
   },
   "outputs": [],
   "source": [
    "def generate_image_url(bbox):\n",
    "    try:\n",
    "        bbox_str = \".\".join(map(str, bbox))\n",
    "        width, height = [512, 512]\n",
    "        return (\n",
    "            f\"https://wms.geonorge.no/skwms1/wms.nib?VERSION=1.3.0\"\n",
    "            f\"&service=WMS&request=GetMap&Format=image/png&\"\n",
    "            f\"GetFeatureInfo=text/plain&CRS=EPSG:25833&Layers=ortofoto&\"\n",
    "            f\"BBox={bbox_str}&width={width}&height={height}&TICKET=\"\n",
    "        )  # token legges til etter TICKET når UDF kjører\n",
    "    except Exception as e:\n",
    "        return \"INVALID\"\n",
    "    \n",
    "generate_image_url_udf = udf(generate_image_url, StringType())\n",
    "\n",
    "def image_file_exists(nodeid: str) -> str:\n",
    "    path = f\"/Volumes/land_topografisk-gdb_dev/external_dev/static_data/DL_SNUPLASSER/endepunkt_image/{nodeid}.png\"\n",
    "    return \"DOWNLOADED\" if os.path.exists(path) else \"PENDING\"\n",
    "\n",
    "image_file_status_udf = udf(image_file_exists, StringType())"
   ]
  },
  {
   "cell_type": "code",
   "execution_count": 0,
   "metadata": {
    "application/vnd.databricks.v1+cell": {
     "cellMetadata": {
      "byteLimit": 2048000,
      "rowLimit": 10000
     },
     "inputWidgets": {},
     "nuid": "e6ee2a6a-1f78-4940-bf5c-a85829ef4794",
     "showTitle": false,
     "tableResultSettingsMap": {},
     "title": ""
    }
   },
   "outputs": [],
   "source": [
    "def add_silver_columns(df: DataFrame, buffer: int = 50, kommune_id: str = \"\") -> DataFrame:\n",
    "    df = df.withColumn(\"bbox\", expr(f\"array(x - {buffer}, y - {buffer}, x + {buffer}, y + {buffer})\"))\n",
    "    df = df.withColumn(\"image_path\", generate_image_url_udf(col(\"bbox\"))) \\\n",
    "           .withColumn(\"dom_path\", generate_dom_url_udf(col(\"bbox\"))) \\\n",
    "           .withColumn(\"image_status\", image_file_status_udf(col(\"nodeid\"))) \\\n",
    "           .withColumn(\"dom_status\", dom_file_status_udf(col(\"nodeid\"))) \\\n",
    "           .withColumn(\"lastet_tid\", current_timestamp()) \\\n",
    "           .withColumn(\"kommune_id\", lit(kommune_id)) \\\n",
    "           .withColumn(\"row_hash\", sha2(concat_ws(\"||\", *df.columns), 256))\n",
    "    return df"
   ]
  },
  {
   "cell_type": "code",
   "execution_count": 0,
   "metadata": {
    "application/vnd.databricks.v1+cell": {
     "cellMetadata": {
      "byteLimit": 2048000,
      "rowLimit": 10000
     },
     "inputWidgets": {},
     "nuid": "a60934ed-4c02-4729-8606-173646773b6d",
     "showTitle": false,
     "tableResultSettingsMap": {},
     "title": ""
    }
   },
   "outputs": [],
   "source": [
    "def write_delta_table(sdf: DataFrame, mode: str = \"merge\") -> None:\n",
    "    if mode == \"overwrite\":\n",
    "        sdf.write.format(\"delta\") \\\n",
    "            .option(\"mergeSchema\", \"true\") \\\n",
    "            .mode(\"overwrite\") \\\n",
    "            .saveAsTable(silver_table)\n",
    "    else:\n",
    "        from delta.tables import DeltaTable\n",
    "\n",
    "        delta_tbl = DeltaTable.forName(spark, silver_table)\n",
    "\n",
    "        delta_tbl.alias(\"target\").merge(\n",
    "            sdf.alias(\"source\"),\n",
    "            condition=\"target.nodeid = source.nodeid\" \n",
    "        ).whenMatchedUpdate(\n",
    "            condition=\"target.hentet_tid < source.hentet_tid OR target.image_path IS NULL\", \n",
    "            set={col: f\"source.{col}\" for col in sdf.columns}\n",
    "        ).whenNotMatchedInsert(\n",
    "            values={col: f\"source.{col}\" for col in sdf.columns}\n",
    "        ).execute()\n"
   ]
  },
  {
   "cell_type": "code",
   "execution_count": 0,
   "metadata": {
    "application/vnd.databricks.v1+cell": {
     "cellMetadata": {
      "byteLimit": 2048000,
      "rowLimit": 10000
     },
     "inputWidgets": {},
     "nuid": "d13479b8-10b3-4813-926f-c7e0382050de",
     "showTitle": false,
     "tableResultSettingsMap": {},
     "title": ""
    }
   },
   "outputs": [],
   "source": [
    "def process_silver_for_kommune(kommune_id: str) -> None:\n",
    "    kommune_id = str(kommune_id)  # sikkerhet\n",
    "    bronze_df = spark.read.table(bronze_table)\n",
    "    bronze_df = bronze_df.filter(col(\"kommune_id\") == lit(kommune_id))\n",
    "\n",
    "    silver_df = add_silver_columns(bronze_df, buffer=buffer, kommune_id=kommune_id)\n",
    "\n",
    "    if not spark.catalog.tableExists(silver_table):\n",
    "        write_delta_table(silver_df, mode=\"overwrite\")\n",
    "        return\n",
    "    \n",
    "    expected_schema = spark.table(silver_table).schema\n",
    "\n",
    "    silver_df = silver_df.select([\n",
    "        lit(\"\").cast(\"string\").alias(c.name) if c.dataType.typeName() == \"void\"\n",
    "        else col(c.name).cast(c.dataType)\n",
    "        for c in expected_schema\n",
    "    ])\n",
    "\n",
    "    w = Window.partitionBy(\"nodeid\").orderBy(col(\"hentet_tid\").desc())\n",
    "    silver_df = silver_df.withColumn(\"row_number\", row_number().over(w)) \\\n",
    "                          .filter(col(\"row_number\") == lit(1)) \\\n",
    "                          .drop(\"row_number\")\n",
    "\n",
    "    write_delta_table(silver_df)"
   ]
  },
  {
   "cell_type": "code",
   "execution_count": 0,
   "metadata": {
    "application/vnd.databricks.v1+cell": {
     "cellMetadata": {
      "byteLimit": 2048000,
      "rowLimit": 10000
     },
     "inputWidgets": {},
     "nuid": "855fc0c6-e6c2-4965-b1e3-03cad9032473",
     "showTitle": false,
     "tableResultSettingsMap": {},
     "title": ""
    }
   },
   "outputs": [],
   "source": [
    "kommune_id_rows = [\n",
    "    row.asDict() for row in spark.read.table(bronze_table).select(\"kommune_id\").distinct().collect()\n",
    "]\n",
    "\n",
    "\n",
    "for row in kommune_id_rows:\n",
    "    print(f\"Row: {row}, type: {type(row)}, kommune_id: {row['kommune_id']}, type: {type(row['kommune_id'])}\")\n",
    "\n",
    "    kommune_id = row[\"kommune_id\"]\n",
    "    if kommune_id is not None:\n",
    "        kommune_id = str(kommune_id)\n",
    "        process_silver_for_kommune(kommune_id)\n"
   ]
  },
  {
   "cell_type": "code",
   "execution_count": 0,
   "metadata": {
    "application/vnd.databricks.v1+cell": {
     "cellMetadata": {
      "byteLimit": 2048000,
      "rowLimit": 10000
     },
     "inputWidgets": {},
     "nuid": "08220333-f645-4764-af1b-a5b3fb708a5c",
     "showTitle": false,
     "tableResultSettingsMap": {},
     "title": ""
    }
   },
   "outputs": [],
   "source": [
    "# spark.sql(f\"DROP TABLE IF EXISTS {silver_table}\")"
   ]
  },
  {
   "cell_type": "code",
   "execution_count": 0,
   "metadata": {
    "application/vnd.databricks.v1+cell": {
     "cellMetadata": {
      "byteLimit": 2048000,
      "rowLimit": 10000
     },
     "inputWidgets": {},
     "nuid": "2f579b2a-a88d-446a-8e96-a6ec536fabf1",
     "showTitle": false,
     "tableResultSettingsMap": {
      "0": {
       "dataGridStateBlob": "{\"version\":1,\"tableState\":{\"columnPinning\":{\"left\":[\"#row_number#\"],\"right\":[]},\"columnSizing\":{},\"columnVisibility\":{}},\"settings\":{\"columns\":{\"image_path\":{\"format\":{\"preset\":\"string-preset-url\"}},\"dom_path\":{\"format\":{\"preset\":\"string-preset-url\"}}}},\"syncTimestamp\":1753180556898}",
       "filterBlob": null,
       "queryPlanFiltersBlob": null,
       "tableResultIndex": 0
      }
     },
     "title": ""
    }
   },
   "outputs": [],
   "source": [
    "display(spark.read.table(silver_table))"
   ]
  },
  {
   "cell_type": "code",
   "execution_count": 0,
   "metadata": {
    "application/vnd.databricks.v1+cell": {
     "cellMetadata": {
      "byteLimit": 2048000,
      "rowLimit": 10000
     },
     "inputWidgets": {},
     "nuid": "ad867d41-7c6e-4c77-ba36-85867f803969",
     "showTitle": false,
     "tableResultSettingsMap": {},
     "title": ""
    }
   },
   "outputs": [],
   "source": [
    "dom_output_dir = \"/Volumes/land_topografisk-gdb_dev/external_dev/static_data/DL_SNUPLASSER/endepunkt_dom/\"\n",
    "os.makedirs(dom_output_dir, exist_ok=True)\n",
    "\n",
    "def download_dom(dom_url: str, out_path: str) -> bool:\n",
    "    try:\n",
    "        r = requests.get(dom_url, timeout=10)\n",
    "        if r.status_code == 200:\n",
    "            with open(out_path, \"wb\") as f:\n",
    "                f.write(r.content)\n",
    "            return True\n",
    "    except Exception as e:\n",
    "        print(f\"❌ Feil ved nedlasting av DOM: {e}\")\n",
    "    return False"
   ]
  },
  {
   "cell_type": "code",
   "execution_count": 0,
   "metadata": {
    "application/vnd.databricks.v1+cell": {
     "cellMetadata": {
      "byteLimit": 2048000,
      "rowLimit": 10000
     },
     "inputWidgets": {},
     "nuid": "9a93513e-9059-4f61-b958-881a2f2e5c5c",
     "showTitle": false,
     "tableResultSettingsMap": {},
     "title": ""
    }
   },
   "outputs": [],
   "source": [
    "silver_df_pending = spark.read.table(silver_table).filter(\"dom_status = 'PENDING'\")\n",
    "silver_rows = silver_df_pending.select(\"nodeid\", \"dom_path\").collect()\n",
    "\n",
    "print(f\"Antall DOM-rader å laste ned: {len(silver_rows)}\")\n",
    "\n",
    "for row in silver_rows:\n",
    "    node_id = row[\"nodeid\"]\n",
    "    dom_url = row[\"dom_path\"]\n",
    "    out_path = f\"{dom_output_dir}/{node_id}.png\"\n",
    "\n",
    "    if download_dom(dom_url, out_path):\n",
    "        print(f\"✅ Lastet ned DOM for node {node_id}\")\n",
    "\n",
    "        DeltaTable.forName(spark, silver_table) \\\n",
    "            .alias(\"target\") \\\n",
    "            .update(\n",
    "                condition=f\"nodeid = '{node_id}'\",\n",
    "                set={\"dom_status\": \"'DOWNLOADED'\"}\n",
    "            )"
   ]
  },
  {
   "cell_type": "code",
   "execution_count": 0,
   "metadata": {
    "application/vnd.databricks.v1+cell": {
     "cellMetadata": {
      "byteLimit": 2048000,
      "rowLimit": 10000
     },
     "inputWidgets": {},
     "nuid": "ffc050d1-fd36-4947-8810-09e9ff09432a",
     "showTitle": false,
     "tableResultSettingsMap": {},
     "title": ""
    }
   },
   "outputs": [],
   "source": [
    "from dotenv import load_dotenv\n",
    "load_dotenv()\n",
    "\n",
    "brukerid = os.getenv(\"GEONORGE_BRUKERID\")\n",
    "passord = os.getenv(\"GEONORGE_PASSORD\")\n",
    "\n",
    "def get_token():\n",
    "    url = (\n",
    "        f\"https://baat.geonorge.no/skbaatts/req?brukerid={brukerid}\"\n",
    "        f\"&passord={passord}&tjenesteid=wms.nib&retformat=s\"\n",
    "    )\n",
    "    raw_token = requests.get(url).text.strip(\"`\")\n",
    "    return raw_token\n",
    "\n",
    "token = get_token()\n",
    "token_start_time = time.time()\n",
    "token_lifetime = 55 * 60  # sekunder\n",
    "\n",
    "def refresh_token_if_needed():\n",
    "    global token, token_start_time\n",
    "    if time.time() - token_start_time > token_lifetime:\n",
    "        print(\"🔄 Fornyer token...\")\n",
    "        token = get_token()\n",
    "        token_start_time = time.time()"
   ]
  },
  {
   "cell_type": "code",
   "execution_count": 0,
   "metadata": {
    "application/vnd.databricks.v1+cell": {
     "cellMetadata": {
      "byteLimit": 2048000,
      "rowLimit": 10000
     },
     "inputWidgets": {},
     "nuid": "f41ccd21-a1f3-4b3f-b02b-f2c1b0ea04b5",
     "showTitle": false,
     "tableResultSettingsMap": {},
     "title": ""
    }
   },
   "outputs": [],
   "source": [
    "image_output_dir = \"/Volumes/land_topografisk-gdb_dev/external_dev/static_data/DL_SNUPLASSER/endepunkt_images/\"\n",
    "os.makedirs(image_output_dir, exist_ok=True)\n",
    "\n",
    "silver_df_pending_img = spark.read.table(silver_table).filter(\n",
    "    \"image_status = 'PENDING' and dom_status = 'DOWNLOADED'\"\n",
    ")\n",
    "silver_rows_img = silver_df_pending_img.select(\"nodeid\", \"image_path\").distinct().collect()\n",
    "\n",
    "print(f\"Antall image-rader å laste ned: {len(silver_rows_img)}\")\n",
    "\n",
    "for row in silver_rows_img:\n",
    "    refresh_token_if_needed()\n",
    "    \n",
    "    node_id = row[\"nodeid\"]\n",
    "    image_base = row[\"image_path\"]\n",
    "\n",
    "    if not image_base or not image_base.startswith(\"http\"):\n",
    "        print(f\"❌ Ugyldig image_path for node {node_id}: {image_base}\")\n",
    "        continue\n",
    "    \n",
    "    image_url = f\"{image_base}{token}\"\n",
    "    out_path = f\"{image_output_dir}/{node_id}.png\"\n",
    "\n",
    "    try:\n",
    "        r = requests.get(image_url, timeout=10)\n",
    "        if r.status_code == 200:\n",
    "            with open(out_path, \"wb\") as f:\n",
    "                f.write(r.content)\n",
    "            print(f\"✅ Lastet ned image for node {node_id}\")\n",
    "\n",
    "            DeltaTable.forName(spark, silver_table) \\\n",
    "                .alias(\"target\") \\\n",
    "                .update(\n",
    "                    condition=f\"nodeid = '{node_id}'\",\n",
    "                    set={\"image_status\": \"'DOWNLOADED'\"}\n",
    "                )\n",
    "        else:\n",
    "            print(f\"⚠️ Feil {r.status_code} for node {node_id}\")\n",
    "    except Exception as e:\n",
    "        print(f\"❌ Exception ved nedlasting av image for node {node_id}: {e}\")"
   ]
  },
  {
   "cell_type": "code",
   "execution_count": 0,
   "metadata": {
    "application/vnd.databricks.v1+cell": {
     "cellMetadata": {
      "byteLimit": 2048000,
      "rowLimit": 10000
     },
     "inputWidgets": {},
     "nuid": "b622ac3b-d4f3-4b0a-aea5-7385f50c6796",
     "showTitle": false,
     "tableResultSettingsMap": {},
     "title": ""
    }
   },
   "outputs": [],
   "source": [
    "spark.read.table(silver_table).groupBy(\"dom_status\", \"image_status\").count().show()"
   ]
  },
  {
   "cell_type": "code",
   "execution_count": 0,
   "metadata": {
    "application/vnd.databricks.v1+cell": {
     "cellMetadata": {
      "byteLimit": 2048000,
      "rowLimit": 10000
     },
     "inputWidgets": {},
     "nuid": "f4756865-425a-45d4-9b8b-d0efaf1dffdd",
     "showTitle": false,
     "tableResultSettingsMap": {},
     "title": ""
    }
   },
   "outputs": [],
   "source": [
    "display(spark.read.table(silver_table))"
   ]
  }
 ],
 "metadata": {
  "application/vnd.databricks.v1+notebook": {
   "computePreferences": null,
   "dashboards": [],
   "environmentMetadata": {
    "base_environment": "",
    "environment_version": "2"
   },
   "inputWidgetPreferences": null,
   "language": "python",
   "notebookMetadata": {
    "pythonIndentUnit": 4
   },
   "notebookName": "endepunkt_silver",
   "widgets": {}
  },
  "language_info": {
   "name": "python"
  }
 },
 "nbformat": 4,
 "nbformat_minor": 0
}

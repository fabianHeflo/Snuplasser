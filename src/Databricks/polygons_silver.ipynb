{
 "cells": [
  {
   "cell_type": "code",
   "execution_count": 0,
   "metadata": {
    "application/vnd.databricks.v1+cell": {
     "cellMetadata": {
      "byteLimit": 2048000,
      "rowLimit": 10000
     },
     "inputWidgets": {},
     "nuid": "f5de88eb-92c2-4c06-9c99-ef5918ad0474",
     "showTitle": false,
     "tableResultSettingsMap": {},
     "title": ""
    }
   },
   "outputs": [],
   "source": [
    "%pip install python-dotenv"
   ]
  },
  {
   "cell_type": "code",
   "execution_count": 0,
   "metadata": {
    "application/vnd.databricks.v1+cell": {
     "cellMetadata": {
      "byteLimit": 2048000,
      "rowLimit": 10000
     },
     "inputWidgets": {},
     "nuid": "8f0bc67b-e8a2-4174-9444-1e794cbc7b05",
     "showTitle": false,
     "tableResultSettingsMap": {},
     "title": ""
    }
   },
   "outputs": [],
   "source": [
    "from pyspark.sql import SparkSession\n",
    "from pyspark.sql import functions as F\n",
    "from pyspark.sql import DataFrame\n",
    "from pyspark.sql.functions import min as spark_min, max as spark_max\n",
    "from pyspark.sql.types import ArrayType, DoubleType, StringType\n",
    "\n",
    "from delta.tables import DeltaTable\n",
    "\n",
    "from sedona.spark import *\n",
    "\n",
    "import random\n",
    "import geopandas as gpd\n",
    "from pathlib import Path\n",
    "import time\n",
    "import os\n",
    "import numpy as np\n",
    "from PIL import Image, ImageDraw\n",
    "from dotenv import load_dotenv\n",
    "import requests"
   ]
  },
  {
   "cell_type": "code",
   "execution_count": 0,
   "metadata": {
    "application/vnd.databricks.v1+cell": {
     "cellMetadata": {
      "byteLimit": 2048000,
      "rowLimit": 10000
     },
     "inputWidgets": {},
     "nuid": "ad7ca19e-e775-4f9c-99b7-1359c7c4bad4",
     "showTitle": false,
     "tableResultSettingsMap": {},
     "title": ""
    }
   },
   "outputs": [],
   "source": [
    "# config\n",
    "catalog_dev = \"`land_topografisk-gdb_dev`\"\n",
    "schema_dev = \"ai2025\"\n",
    "log_table = f\"{catalog_dev}.{schema_dev}.logs_processed_gdbs\"\n",
    "bronze_table = f\"{catalog_dev}.{schema_dev}.polygons_bronze\"\n",
    "silver_table = f\"{catalog_dev}.{schema_dev}.polygons_silver\"\n",
    "buffer = 20"
   ]
  },
  {
   "cell_type": "code",
   "execution_count": 0,
   "metadata": {
    "application/vnd.databricks.v1+cell": {
     "cellMetadata": {
      "byteLimit": 2048000,
      "rowLimit": 10000
     },
     "inputWidgets": {},
     "nuid": "d428224e-0b4c-4101-a816-d43a4cd55485",
     "showTitle": false,
     "tableResultSettingsMap": {},
     "title": ""
    }
   },
   "outputs": [],
   "source": [
    "df_bronze = spark.read.table(bronze_table)\n",
    "df_bronze.display(5)"
   ]
  },
  {
   "cell_type": "code",
   "execution_count": 0,
   "metadata": {
    "application/vnd.databricks.v1+cell": {
     "cellMetadata": {
      "byteLimit": 2048000,
      "rowLimit": 10000
     },
     "inputWidgets": {},
     "nuid": "af76e18a-046e-46ef-88ed-8f587fb6c6e7",
     "showTitle": false,
     "tableResultSettingsMap": {},
     "title": ""
    }
   },
   "outputs": [],
   "source": [
    "def read_table_to_wkt() -> DataFrame:\n",
    "    \"\"\"\n",
    "    Read a Spark DataFrame column containing WKT and return a Spark DataFrame with the\n",
    "    \"\"\"\n",
    "    df_bronze = spark.read.table(bronze_table).withColumn(\"geometry\", F.expr(\"ST_GeomFromWKT(geometry)\"))\n",
    "    return df_bronze"
   ]
  },
  {
   "cell_type": "code",
   "execution_count": 0,
   "metadata": {
    "application/vnd.databricks.v1+cell": {
     "cellMetadata": {
      "byteLimit": 2048000,
      "rowLimit": 10000
     },
     "inputWidgets": {},
     "nuid": "e6c77d6a-d1ee-4d7a-97ec-ec498b688015",
     "showTitle": false,
     "tableResultSettingsMap": {},
     "title": ""
    }
   },
   "outputs": [],
   "source": [
    "def make_envelope(df: DataFrame) -> DataFrame:\n",
    "    \"\"\"\n",
    "    Make a envelope based on the geom.\n",
    "    \"\"\"\n",
    "    return df.withColumn(\"envelope\", F.expr(\"ST_Boundary(geometry)\"))"
   ]
  },
  {
   "cell_type": "code",
   "execution_count": 0,
   "metadata": {
    "application/vnd.databricks.v1+cell": {
     "cellMetadata": {
      "byteLimit": 2048000,
      "rowLimit": 10000
     },
     "inputWidgets": {},
     "nuid": "9bf9dcfd-eba3-495f-a807-1a86d108f69d",
     "showTitle": false,
     "tableResultSettingsMap": {},
     "title": ""
    }
   },
   "outputs": [],
   "source": [
    "# def random_adjusted_bbox(envelope: list, output_size: int=512) -> list:\n",
    "#     \"\"\"\n",
    "#     Generate a random bbox based on the envelope.\n",
    "#     \"\"\"\n",
    "#     xmin, ymin, xmax, ymax = envelope\n",
    "#     poly_width = xmax - xmin\n",
    "#     poly_height = ymax - ymin\n",
    "\n",
    "#     if poly_width > output_size or poly_height > output_size:\n",
    "#         return None\n",
    "\n",
    "#     max_dx = output_size - poly_width\n",
    "#     max_dy = output_size - poly_height\n",
    "\n",
    "#     dx = random.uniform(0, max_dx)\n",
    "#     dy = random.uniform(0, max_dy)\n",
    "\n",
    "#     adjusted_xmin = xmin - dx\n",
    "#     adjusted_ymin = ymin - dy\n",
    "#     adjusted_xmax = adjusted_xmin + output_size\n",
    "#     adjusted_ymax = adjusted_ymin + output_size\n",
    "\n",
    "#     return [adjusted_xmin, adjusted_ymin, adjusted_xmax, adjusted_ymax]"
   ]
  },
  {
   "cell_type": "code",
   "execution_count": 0,
   "metadata": {
    "application/vnd.databricks.v1+cell": {
     "cellMetadata": {},
     "inputWidgets": {},
     "nuid": "6fb0baad-55f9-4284-913c-6b0bd1b0c015",
     "showTitle": false,
     "tableResultSettingsMap": {},
     "title": ""
    }
   },
   "outputs": [],
   "source": [
    "def random_adjusted_bbox_centered(\n",
    "    envelope: list,\n",
    "    min_size: int = 256,\n",
    "    max_size: int = 512,\n",
    "    margin: int = 20,\n",
    "    max_offset: float = 20\n",
    ") -> list:\n",
    "    \"\"\"\n",
    "    Lager en justert BBOX som garanterer at polygonet er synlig og sentrert,\n",
    "    med en viss variasjon i størrelse og plassering.\n",
    "    \n",
    "    Args:\n",
    "        envelope: [xmin, ymin, xmax, ymax]\n",
    "        min_size: Minimum størrelse på BBOX (f.eks. 256 m)\n",
    "        max_size: Maksimal størrelse (f.eks. 512 m)\n",
    "        margin: Buffer rundt polygonet (f.eks. 20 m)\n",
    "        max_offset: Maks tilfeldig forskyvning (f.eks. ±20 m)\n",
    "\n",
    "    Returns:\n",
    "        [adjusted_xmin, adjusted_ymin, adjusted_xmax, adjusted_ymax]\n",
    "    \"\"\"\n",
    "    import random\n",
    "\n",
    "    xmin, ymin, xmax, ymax = envelope\n",
    "    poly_width = xmax - xmin\n",
    "    poly_height = ymax - ymin\n",
    "\n",
    "    # Finn ønsket størrelse: polygonens størrelse + margin, begrenset mellom min_size og max_size\n",
    "    bbox_size = max(poly_width, poly_height) + margin * 2\n",
    "    bbox_size = min(max(bbox_size, min_size), max_size)\n",
    "\n",
    "    half_size = bbox_size / 2\n",
    "\n",
    "    # Senter av polygonet\n",
    "    center_x = (xmin + xmax) / 2\n",
    "    center_y = (ymin + ymax) / 2\n",
    "\n",
    "    # Legg på tilfeldig forskyvning\n",
    "    dx = random.uniform(-max_offset, max_offset)\n",
    "    dy = random.uniform(-max_offset, max_offset)\n",
    "\n",
    "    center_x += dx\n",
    "    center_y += dy\n",
    "\n",
    "    # Lag bbox\n",
    "    adjusted_xmin = center_x - half_size\n",
    "    adjusted_xmax = center_x + half_size\n",
    "    adjusted_ymin = center_y - half_size\n",
    "    adjusted_ymax = center_y + half_size\n",
    "\n",
    "    return [adjusted_xmin, adjusted_ymin, adjusted_xmax, adjusted_ymax]"
   ]
  },
  {
   "cell_type": "code",
   "execution_count": 0,
   "metadata": {
    "application/vnd.databricks.v1+cell": {
     "cellMetadata": {
      "byteLimit": 2048000,
      "implicitDf": true,
      "rowLimit": 10000
     },
     "inputWidgets": {},
     "nuid": "b6dc4af8-c5bf-49d6-a291-e8acc653f94d",
     "showTitle": false,
     "tableResultSettingsMap": {},
     "title": ""
    }
   },
   "outputs": [],
   "source": [
    "def make_bbox(df: DataFrame, column_name: str) -> DataFrame: \n",
    "    \"\"\"\n",
    "    Make a bounding box from a Spark DataFrame based on the envelope.\n",
    "    \"\"\"\n",
    "    df = df.withColumn(\n",
    "    \"bbox\",\n",
    "    F.expr(f\"\"\"\n",
    "    array(\n",
    "        ST_X(ST_Centroid(envelope)) - (GREATEST(ST_XMax(envelope) - ST_XMin(envelope), ST_YMax(envelope) - ST_YMin(envelope)) / 2 + {buffer}),\n",
    "        ST_Y(ST_Centroid(envelope)) - (GREATEST(ST_XMax(envelope) - ST_XMin(envelope), ST_YMax(envelope) - ST_YMin(envelope)) / 2 + {buffer}),\n",
    "        ST_X(ST_Centroid(envelope)) + (GREATEST(ST_XMax(envelope) - ST_XMin(envelope), ST_YMax(envelope) - ST_YMin(envelope)) / 2 + {buffer}),\n",
    "        ST_Y(ST_Centroid(envelope)) + (GREATEST(ST_XMax(envelope) - ST_XMin(envelope), ST_YMax(envelope) - ST_YMin(envelope)) / 2 + {buffer})\n",
    "    )\n",
    "    \"\"\") # Lager BBOX kolonne som kan brukes videre i WMSene på en enkel måte.\n",
    "    )\n",
    "    df = df.withColumn(\n",
    "        \"Polygons\",\n",
    "        F.expr(\"ST_MakeEnvelope(bbox[0], bbox[1], bbox[2], bbox[3])\")\n",
    "    ) # Lager polygons basert på bboxen \n",
    "    df = df.withColumn(\n",
    "        \"Adjusted_bbox\",\n",
    "        adjusted_bbox_udf(F.col(\"bbox\"))\n",
    "    ).drop(\"envelope\")  # Dropper envelope kolonnen. Denne kolonnen brukes egt bare for å plotte bboxene. Strengt tatt ikke nødvendig å bruke.\n",
    "    return df"
   ]
  },
  {
   "cell_type": "code",
   "execution_count": 0,
   "metadata": {
    "application/vnd.databricks.v1+cell": {
     "cellMetadata": {
      "byteLimit": 2048000,
      "rowLimit": 10000
     },
     "inputWidgets": {},
     "nuid": "520ba67d-c891-4773-9518-6194c88f01a4",
     "showTitle": false,
     "tableResultSettingsMap": {},
     "title": ""
    }
   },
   "outputs": [],
   "source": [
    "def generate_dom_url(bbox):\n",
    "    bbox_str = \",\".join(map(str, bbox))\n",
    "    width, height = [512, 512]\n",
    "    return (\n",
    "        f\"https://wms.geonorge.no/skwms1/wms.hoyde-dom-nhm-25833?request=GetMap&Format=image/png&\"\n",
    "        f\"GetFeatureInfo=text/plain&CRS=EPSG:25833&Layers=NHM_DOM_25833:skyggerelieff&\"\n",
    "        f\"BBOX={bbox_str}&width={width}&height={height}\"\n",
    "    )\n",
    "\n",
    "def generate_image_url(bbox):\n",
    "    bbox_str = \",\".join(map(str, bbox))\n",
    "    width, height = [512, 512]\n",
    "    return (\n",
    "        f\"https://wms.geonorge.no/skwms1/wms.nib?VERSION=1.3.0\"\n",
    "        f\"&service=WMS&request=GetMap&Format=image/png&\"\n",
    "        f\"GetFeatureInfo=text/plain&CRS=EPSG:25833&Layers=ortofoto&\"\n",
    "        f\"BBox={bbox_str}&width={width}&height={height}&TICKET=\"\n",
    "    )\n",
    "\n",
    "def dom_file_exists(id: str) -> str:\n",
    "    path = f\"/Volumes/land_topografisk-gdb_dev/external_dev/static_data/DL_SNUPLASSER/polygon_dom/{id}.png\"\n",
    "    return \"DOWNLOADED\" if os.path.exists(path) else \"PENDING\"\n",
    "\n",
    "def image_file_exists(id: str) -> str:\n",
    "    path = f\"/Volumes/land_topografisk-gdb_dev/external_dev/static_data/DL_SNUPLASSER/polygon_image/{id}.png\"\n",
    "    return \"DOWNLOADED\" if os.path.exists(path) else \"PENDING\""
   ]
  },
  {
   "cell_type": "code",
   "execution_count": 0,
   "metadata": {
    "application/vnd.databricks.v1+cell": {
     "cellMetadata": {
      "byteLimit": 2048000,
      "rowLimit": 10000
     },
     "inputWidgets": {},
     "nuid": "a127e380-443c-4960-bd52-b19484f5bb87",
     "showTitle": false,
     "tableResultSettingsMap": {},
     "title": ""
    }
   },
   "outputs": [],
   "source": [
    "def write_delta_table(sdf: DataFrame):\n",
    "    \"\"\"\n",
    "    Write Spark DataFrame to Delta table.\n",
    "    Automatically updates or inserts all columns.\n",
    "    \"\"\"\n",
    "    if not spark.catalog.tableExists(silver_table):\n",
    "        sdf.write.format(\"delta\") \\\n",
    "            .option(\"mergeSchema\", \"true\") \\\n",
    "            .mode(\"overwrite\") \\\n",
    "            .saveAsTable(silver_table)\n",
    "    else:\n",
    "        delta_tbl = DeltaTable.forName(spark, silver_table)\n",
    "        delta_tbl.alias(\"target\") \\\n",
    "            .merge(\n",
    "                source=sdf.alias(\"source\"),\n",
    "                condition=\"target.row_hash = source.row_hash\"\n",
    "            ) \\\n",
    "            .whenMatchedUpdateAll() \\\n",
    "            .whenNotMatchedInsertAll() \\\n",
    "            .execute()"
   ]
  },
  {
   "cell_type": "code",
   "execution_count": 0,
   "metadata": {
    "application/vnd.databricks.v1+cell": {
     "cellMetadata": {
      "byteLimit": 2048000,
      "rowLimit": 10000
     },
     "inputWidgets": {},
     "nuid": "ca2520ed-20d7-48f6-80ea-7d2f4807c2ab",
     "showTitle": false,
     "tableResultSettingsMap": {},
     "title": ""
    }
   },
   "outputs": [],
   "source": [
    "def plot(df: DataFrame, column_name: str, plot_column: str):\n",
    "    \"\"\"\n",
    "    Plot the bbox.\n",
    "    \"\"\"\n",
    "    bbox_gdf = gpd.GeoDataFrame(\n",
    "    df.toPandas(),\n",
    "    geometry=column_name,\n",
    "    crs=\"EPSG:25833\",  # Bruker ETRS89 / UTM sone 33N (Norge)\n",
    "    )\n",
    "    return bbox_gdf"
   ]
  },
  {
   "cell_type": "code",
   "execution_count": 0,
   "metadata": {
    "application/vnd.databricks.v1+cell": {
     "cellMetadata": {
      "byteLimit": 2048000,
      "rowLimit": 10000
     },
     "inputWidgets": {},
     "nuid": "8c927767-2831-4a12-bd25-1a8867ce8d9a",
     "showTitle": false,
     "tableResultSettingsMap": {},
     "title": ""
    }
   },
   "outputs": [],
   "source": [
    "adjusted_bbox_udf = F.udf(lambda envelope: random_adjusted_bbox_centered(envelope), ArrayType(DoubleType()))\n",
    "generate_dom_url_udf = F.udf(generate_dom_url, StringType())\n",
    "generate_image_url_udf = F.udf(generate_image_url, StringType())\n",
    "dom_file_status_udf = F.udf(dom_file_exists, StringType())\n",
    "image_file_status_udf = F.udf(image_file_exists, StringType())\n",
    "\n",
    "df = read_table_to_wkt()\n",
    "df = make_envelope(df)\n",
    "df = make_bbox(df, \"envelope\")\n",
    "df = df.withColumn(\"image_path\", generate_image_url_udf(\"Adjusted_bbox\")) \\\n",
    "       .withColumn(\"dom_path\", generate_dom_url_udf(\"Adjusted_bbox\")) \\\n",
    "       .withColumn(\"image_status\", image_file_status_udf(\"row_hash\")) \\\n",
    "       .withColumn(\"dom_status\", dom_file_status_udf(\"row_hash\")) \\\n",
    "       .withColumn(\"mask_status\", lit(\"PENDING\")) \\\n",
    "       .withColumn(\"lastet_tid\", F.current_timestamp())\n",
    "\n",
    "gdf = plot(df, \"Polygons\", \"Vegtyper\")\n",
    "write_delta_table(df)\n"
   ]
  },
  {
   "cell_type": "code",
   "execution_count": 0,
   "metadata": {
    "application/vnd.databricks.v1+cell": {
     "cellMetadata": {
      "byteLimit": 2048000,
      "rowLimit": 10000
     },
     "inputWidgets": {},
     "nuid": "0496dc74-4d65-4c93-98ee-701414a8cb4e",
     "showTitle": false,
     "tableResultSettingsMap": {
      "0": {
       "dataGridStateBlob": "{\"version\":1,\"tableState\":{\"columnPinning\":{\"left\":[\"#row_number#\"],\"right\":[]},\"columnSizing\":{},\"columnVisibility\":{}},\"settings\":{\"columns\":{\"image_path\":{\"format\":{\"preset\":\"string-preset-url\"}},\"dom_path\":{\"format\":{\"preset\":\"string-preset-url\"}}}},\"syncTimestamp\":1753340396881}",
       "filterBlob": null,
       "queryPlanFiltersBlob": null,
       "tableResultIndex": 0
      }
     },
     "title": ""
    }
   },
   "outputs": [],
   "source": [
    "df.display()"
   ]
  },
  {
   "cell_type": "code",
   "execution_count": 0,
   "metadata": {
    "application/vnd.databricks.v1+cell": {
     "cellMetadata": {
      "byteLimit": 2048000,
      "rowLimit": 10000
     },
     "inputWidgets": {},
     "nuid": "5724bec4-25f2-4cdc-aa9e-6991bc8f2901",
     "showTitle": false,
     "tableResultSettingsMap": {},
     "title": ""
    }
   },
   "outputs": [],
   "source": [
    "# Uncomment under hvis man ønsker å se på plotten\n",
    "# gdf.explore(column=\"Vegtyper\", tooltip=\"Vegtyper\", popup=True, cmap=\"Set1\")"
   ]
  },
  {
   "cell_type": "code",
   "execution_count": 0,
   "metadata": {
    "application/vnd.databricks.v1+cell": {
     "cellMetadata": {
      "byteLimit": 2048000,
      "rowLimit": 10000
     },
     "inputWidgets": {},
     "nuid": "9c17aeb0-6d4b-4573-9727-11e96fb70da8",
     "showTitle": false,
     "tableResultSettingsMap": {},
     "title": ""
    }
   },
   "outputs": [],
   "source": [
    "# spark.sql(f\"DROP TABLE IF EXISTS {silver_table}\")"
   ]
  }
 ],
 "metadata": {
  "application/vnd.databricks.v1+notebook": {
   "computePreferences": null,
   "dashboards": [],
   "environmentMetadata": {
    "base_environment": "",
    "environment_version": "2"
   },
   "inputWidgetPreferences": null,
   "language": "python",
   "notebookMetadata": {
    "mostRecentlyExecutedCommandWithImplicitDF": {
     "commandId": 5031113679203828,
     "dataframes": [
      "_sqldf"
     ]
    },
    "pythonIndentUnit": 4
   },
   "notebookName": "polygons_silver",
   "widgets": {}
  },
  "language_info": {
   "name": "python"
  }
 },
 "nbformat": 4,
 "nbformat_minor": 0
}

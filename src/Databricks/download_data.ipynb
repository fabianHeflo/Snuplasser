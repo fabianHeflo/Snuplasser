{
 "cells": [
  {
   "cell_type": "code",
   "execution_count": 0,
   "metadata": {
    "application/vnd.databricks.v1+cell": {
     "cellMetadata": {},
     "inputWidgets": {},
     "nuid": "9c8087e0-5a62-4222-93e3-89a68ef16ba3",
     "showTitle": false,
     "tableResultSettingsMap": {},
     "title": ""
    }
   },
   "outputs": [],
   "source": [
    "%pip install python-dotenv"
   ]
  },
  {
   "cell_type": "code",
   "execution_count": 0,
   "metadata": {
    "application/vnd.databricks.v1+cell": {
     "cellMetadata": {},
     "inputWidgets": {},
     "nuid": "14b6804f-3d41-4ce1-b005-a77cb12c2691",
     "showTitle": false,
     "tableResultSettingsMap": {},
     "title": ""
    }
   },
   "outputs": [],
   "source": [
    "import os\n",
    "import time\n",
    "import requests\n",
    "\n",
    "from pyspark.sql import functions as F\n",
    "from pyspark.sql.types import StringType, ArrayType, DoubleType\n",
    "from delta.tables import DeltaTable\n",
    "\n",
    "from dotenv import load_dotenv\n",
    "\n",
    "from PIL import Image, ImageDraw\n",
    "import numpy as np\n",
    "\n",
    "import geopandas as gpd"
   ]
  },
  {
   "cell_type": "code",
   "execution_count": 0,
   "metadata": {
    "application/vnd.databricks.v1+cell": {
     "cellMetadata": {},
     "inputWidgets": {},
     "nuid": "7381f9bc-9c31-4633-95ea-be2fff2e6091",
     "showTitle": false,
     "tableResultSettingsMap": {},
     "title": ""
    }
   },
   "outputs": [],
   "source": [
    "IMAGE_SIZE = [512, 512]\n",
    "catalog_dev = \"`land_topografisk-gdb_dev`\"\n",
    "schema_dev = \"ai2025\"\n",
    "silver_table = f\"{catalog_dev}.{schema_dev}.polygons_silver\""
   ]
  },
  {
   "cell_type": "code",
   "execution_count": 0,
   "metadata": {
    "application/vnd.databricks.v1+cell": {
     "cellMetadata": {},
     "inputWidgets": {},
     "nuid": "d1d409cb-014e-4beb-960c-e8b3d4907b7d",
     "showTitle": false,
     "tableResultSettingsMap": {},
     "title": ""
    }
   },
   "outputs": [],
   "source": [
    "load_dotenv()\n",
    "brukerid = os.getenv(\"GEONORGE_BRUKERID\")\n",
    "passord = os.getenv(\"GEONORGE_PASSORD\")\n",
    "\n",
    "def get_token():\n",
    "    url = (\n",
    "        f\"https://baat.geonorge.no/skbaatts/req?brukerid={brukerid}\"\n",
    "        f\"&passord={passord}&tjenesteid=wms.nib&retformat=s\"\n",
    "    )\n",
    "    raw_token = requests.get(url).text.strip(\"`\")\n",
    "    return raw_token\n",
    "\n",
    "token = get_token()\n",
    "token_start_time = time.time()\n",
    "token_lifetime = 55 * 60  # sekunder\n",
    "\n",
    "def refresh_token_if_needed():\n",
    "    global token, token_start_time\n",
    "    if time.time() - token_start_time > token_lifetime:\n",
    "        print(\"🔄 Fornyer token...\")\n",
    "        token = get_token()\n",
    "        token_start_time = time.time()"
   ]
  },
  {
   "cell_type": "code",
   "execution_count": 0,
   "metadata": {
    "application/vnd.databricks.v1+cell": {
     "cellMetadata": {
      "byteLimit": 2048000,
      "rowLimit": 10000
     },
     "inputWidgets": {},
     "nuid": "5acf360f-326d-4445-bacb-e52387db4133",
     "showTitle": false,
     "tableResultSettingsMap": {},
     "title": ""
    }
   },
   "outputs": [],
   "source": [
    "# Er noe feil her\n",
    "\n",
    "def generate_binary_mask(geom, out_path, width=512, height=512):\n",
    "    \"\"\"\n",
    "    Lager en binær maske basert på geometrien (Shapely Polygon) og lagrer den som PNG.\n",
    "    Polygonen tegnes med verdi 1 (hvit), og bakgrunn er 0 (svart).\n",
    "    \"\"\"\n",
    "    try:\n",
    "        minx, miny, maxx, maxy = geom.bounds\n",
    "\n",
    "        mask = Image.new(\"L\", (width, height), 0)\n",
    "        draw = ImageDraw.Draw(mask)\n",
    "\n",
    "        def world_to_pixel(x, y):\n",
    "            px = int((x - minx) / (maxx - minx) * width)\n",
    "            py = int((maxy - y) / (maxy - miny) * height)  \n",
    "            return (px, py)\n",
    "\n",
    "        exterior_coords = [world_to_pixel(x, y) for x, y in np.array(geom.exterior.coords)]\n",
    "        draw.polygon(exterior_coords, outline=1, fill=1)\n",
    "\n",
    "        mask.save(out_path)\n",
    "        return True\n",
    "\n",
    "    except Exception as e:\n",
    "        print(f\"❌ Feil ved maskegenerering: {e}\")\n",
    "        return False"
   ]
  },
  {
   "cell_type": "code",
   "execution_count": 0,
   "metadata": {
    "application/vnd.databricks.v1+cell": {
     "cellMetadata": {},
     "inputWidgets": {},
     "nuid": "091755e2-5134-4899-8ecb-33e0febb3f24",
     "showTitle": false,
     "tableResultSettingsMap": {},
     "title": ""
    }
   },
   "outputs": [],
   "source": [
    "def download_image(url: str, out_path: str) -> bool:\n",
    "    try:\n",
    "        r = requests.get(url, timeout=10)\n",
    "        if r.status_code == 200:\n",
    "            with open(out_path, \"wb\") as f:\n",
    "                f.write(r.content)\n",
    "            return True\n",
    "    except Exception as e:\n",
    "        print(f\"❌ Feil ved nedlasting: {e}\")\n",
    "    return False"
   ]
  },
  {
   "cell_type": "code",
   "execution_count": 0,
   "metadata": {
    "application/vnd.databricks.v1+cell": {
     "cellMetadata": {},
     "inputWidgets": {},
     "nuid": "81abb18f-c2fb-403a-a78f-adcbf450c3d7",
     "showTitle": false,
     "tableResultSettingsMap": {},
     "title": ""
    }
   },
   "outputs": [],
   "source": [
    "dom_output_dir = \"/Volumes/land_topografisk-gdb_dev/external_dev/static_data/DL_SNUPLASSER/dom/\"\n",
    "image_output_dir = \"/Volumes/land_topografisk-gdb_dev/external_dev/static_data/DL_SNUPLASSER/img/\"\n",
    "mask_dir = \"/Volumes/land_topografisk-gdb_dev/external_dev/static_data/DL_SNUPLASSER/lab/\"\n",
    "os.makedirs(dom_output_dir, exist_ok=True)\n",
    "os.makedirs(image_output_dir, exist_ok=True)\n",
    "os.makedirs(mask_dir, exist_ok=True)\n"
   ]
  },
  {
   "cell_type": "code",
   "execution_count": 0,
   "metadata": {
    "application/vnd.databricks.v1+cell": {
     "cellMetadata": {},
     "inputWidgets": {},
     "nuid": "cc4c81ea-9c66-4981-aac6-1c5bebe4f786",
     "showTitle": false,
     "tableResultSettingsMap": {},
     "title": ""
    }
   },
   "outputs": [],
   "source": [
    "silver_df = spark.read.table(silver_table)\n",
    "\n",
    "# LAST NED DOM\n",
    "pending_dom = spark.read.table(silver_table).filter(\"dom_status = 'PENDING'\").select(\"row_hash\", \"dom_path\").collect()\n",
    "for row in pending_dom:\n",
    "    row_hash, dom_url = row[\"row_hash\"], row[\"dom_path\"]\n",
    "    out_path = f\"{dom_output_dir}/dom_{row_hash}.png\"\n",
    "    if download_image(dom_url, out_path):\n",
    "        DeltaTable.forName(spark, silver_table).update(\n",
    "            condition=f\"row_hash = '{row_hash}'\",\n",
    "            set={\"dom_status\": \"'DOWNLOADED'\"}\n",
    "        )\n",
    "\n",
    "# Last ned ortofoto\n",
    "pending_img = spark.read.table(silver_table).filter(\"image_status = 'PENDING' AND dom_status = 'DOWNLOADED'\").select(\"row_hash\", \"image_path\").collect()\n",
    "for row in pending_img:\n",
    "    refresh_token_if_needed()\n",
    "    row_hash, image_base = row[\"row_hash\"], row[\"image_path\"]\n",
    "    if image_base and image_base.startswith(\"http\"):\n",
    "        image_url = f\"{image_base}{token}\"\n",
    "        out_path = f\"{image_output_dir}/image_{row_hash}.png\"\n",
    "        if download_image(image_url, out_path):\n",
    "            DeltaTable.forName(spark, silver_table).update(\n",
    "                condition=f\"row_hash = '{row_hash}'\",\n",
    "                set={\"image_status\": \"'DOWNLOADED'\"}\n",
    "            )\n",
    "\n",
    "\n",
    "\n",
    "gdf = gpd.GeoDataFrame(df.toPandas(), geometry=\"Polygons\", crs=\"EPSG:25833\")\n",
    "\n",
    "for _, row in gdf.iterrows():\n",
    "    out_path = f\"{mask_dir}/mask_{row['row_hash']}.png\"\n",
    "    success = generate_binary_mask(row[\"Polygons\"], out_path)\n",
    "\n",
    "    if success:\n",
    "        DeltaTable.forName(spark, silver_table).update(\n",
    "            condition=f\"row_hash = '{row['row_hash']}'\",\n",
    "            set={\"mask_status\": \"'GENERATED'\"}\n",
    "        )\n",
    "    else:\n",
    "        print(f\"⚠️ Maskegenerering feilet for {row['row_hash']}\")"
   ]
  }
 ],
 "metadata": {
  "application/vnd.databricks.v1+notebook": {
   "computePreferences": null,
   "dashboards": [],
   "environmentMetadata": {
    "base_environment": "",
    "environment_version": "2"
   },
   "inputWidgetPreferences": null,
   "language": "python",
   "notebookMetadata": {
    "pythonIndentUnit": 4
   },
   "notebookName": "download_data",
   "widgets": {}
  },
  "language_info": {
   "name": "python"
  }
 },
 "nbformat": 4,
 "nbformat_minor": 0
}

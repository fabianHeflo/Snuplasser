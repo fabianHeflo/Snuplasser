{
 "cells": [
  {
   "cell_type": "code",
   "execution_count": 0,
   "metadata": {
    "application/vnd.databricks.v1+cell": {
     "cellMetadata": {
      "byteLimit": 2048000,
      "rowLimit": 10000
     },
     "inputWidgets": {},
     "nuid": "9a57ad79-b22a-4cb7-a21e-4808cc1a73cc",
     "showTitle": false,
     "tableResultSettingsMap": {},
     "title": ""
    }
   },
   "outputs": [],
   "source": [
    "%pip install torch"
   ]
  },
  {
   "cell_type": "code",
   "execution_count": 0,
   "metadata": {
    "application/vnd.databricks.v1+cell": {
     "cellMetadata": {
      "byteLimit": 2048000,
      "rowLimit": 10000
     },
     "inputWidgets": {},
     "nuid": "aaf61c95-4af9-4c6c-b444-ec887acfc1a2",
     "showTitle": false,
     "tableResultSettingsMap": {},
     "title": ""
    }
   },
   "outputs": [],
   "source": [
    "import torch"
   ]
  },
  {
   "cell_type": "code",
   "execution_count": 0,
   "metadata": {
    "application/vnd.databricks.v1+cell": {
     "cellMetadata": {
      "byteLimit": 2048000,
      "rowLimit": 10000
     },
     "inputWidgets": {},
     "nuid": "5c274ec4-3c54-4c6e-9eb9-bfd0114062cc",
     "showTitle": false,
     "tableResultSettingsMap": {},
     "title": ""
    }
   },
   "outputs": [],
   "source": [
    "def iou_pytorch(outputs: torch.Tensor, labels: torch.Tensor, ignore: int = None):\n",
    "    SMOOTH = 1e-6\n",
    "\n",
    "    # If ignore parameter is provided, mask those values\n",
    "    if ignore is not None:\n",
    "        outputs = torch.where(outputs == ignore, torch.zeros_like(outputs), outputs)\n",
    "        labels = torch.where(labels == ignore, torch.zeros_like(labels), labels)\n",
    "\n",
    "    # You can comment out this line if you are passing tensors of equal shape\n",
    "    # But if you are passing output from UNet or something it will most probably\n",
    "    # be with the BATCH x 1 x H x W shape\n",
    "    outputs = outputs.squeeze(1)  # BATCH x 1 x H x W => BATCH x H x W\n",
    "\n",
    "    intersection = (\n",
    "        (outputs & labels).float().sum((1, 2))\n",
    "    )  # Will be zero if Truth=0 or Prediction=0\n",
    "    union = (outputs | labels).float().sum((1, 2))  # Will be zero if both are 0\n",
    "\n",
    "    iou = (intersection + SMOOTH) / (\n",
    "        union + SMOOTH\n",
    "    )  # We smooth our division to avoid 0/0\n",
    "\n",
    "    return iou.mean()\n",
    "\n",
    "\n",
    "def acc_pytorch(outputs: torch.Tensor, labels: torch.Tensor):\n",
    "    if outputs.dim() > 2:\n",
    "        outputs = outputs.squeeze(1)\n",
    "\n",
    "    acc = torch.sum(outputs == labels) / (\n",
    "        labels.size(0) * labels.size(1) * labels.size(2)\n",
    "    )\n",
    "\n",
    "    return acc"
   ]
  }
 ],
 "metadata": {
  "application/vnd.databricks.v1+notebook": {
   "computePreferences": null,
   "dashboards": [],
   "environmentMetadata": {
    "base_environment": "",
    "environment_version": "2"
   },
   "inputWidgetPreferences": null,
   "language": "python",
   "notebookMetadata": {
    "pythonIndentUnit": 4
   },
   "notebookName": "utils",
   "widgets": {}
  },
  "language_info": {
   "name": "python"
  }
 },
 "nbformat": 4,
 "nbformat_minor": 0
}

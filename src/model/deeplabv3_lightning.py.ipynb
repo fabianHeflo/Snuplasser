{
 "cells": [
  {
   "cell_type": "code",
   "execution_count": 0,
   "metadata": {
    "application/vnd.databricks.v1+cell": {
     "cellMetadata": {
      "byteLimit": 2048000,
      "rowLimit": 10000
     },
     "inputWidgets": {},
     "nuid": "e82f154a-ac96-4568-b36b-9a1e33d36bcf",
     "showTitle": false,
     "tableResultSettingsMap": {},
     "title": ""
    }
   },
   "outputs": [],
   "source": [
    "%python\n",
    "%pip install torch\n",
    "%pip install lightning\n",
    "%pip install segmentation-models-pytorch\n",
    "%pip install torchmetrics"
   ]
  },
  {
   "cell_type": "code",
   "execution_count": 0,
   "metadata": {
    "application/vnd.databricks.v1+cell": {
     "cellMetadata": {
      "byteLimit": 2048000,
      "rowLimit": 10000
     },
     "inputWidgets": {},
     "nuid": "63d059ef-cc06-4781-80f5-4490ee001a8d",
     "showTitle": false,
     "tableResultSettingsMap": {},
     "title": ""
    }
   },
   "outputs": [],
   "source": [
    "import torch\n",
    "from lightning.pytorch import LightningModule\n",
    "import segmentation_models_pytorch as smp\n",
    "import torch.nn.functional as F\n",
    "from torchmetrics.classification import MulticlassJaccardIndex\n",
    "\n",
    "\n",
    "class DeepLabV3Lightning(LightningModule):\n",
    "    def __init__(self,config):\n",
    "        super().__init__()\n",
    "        self.save_hyperparameters(config)\n",
    "\n",
    "        self.model = smp.DeepLabV3(\n",
    "            encoder_name=config.get(\"backbone\", \"resnet50\"),\n",
    "            encoder_weights=config.get(\"encoder_weights\", \"imagenet\"),\n",
    "            in_channels=config.get(\"in_channels\", 4),\n",
    "            classes=config.get(\"num_classes\", 2),\n",
    "        )\n",
    "\n",
    "        self.lr= config.get(\"lr\", 1e-3)\n",
    "        self.loss_fn=smp.losses.DiceLoss(mode='multiclass')\n",
    "        self.iou_metric = MulticlassJaccardIndex( num_classes=config.get(\"num_classes\", 2))\n",
    "       \n",
    "\n",
    "\n",
    "    def forward(self, x):\n",
    "        if x.dtype == torch.uint8:\n",
    "            x = x.float() / 255.0\n",
    "        return self.model(x)\n",
    "    \n",
    "    def training_step(self, batch, batch_idx):\n",
    "        x,y = batch\n",
    "        logits = self(x)\n",
    "        loss= self.loss_fn(logits, y)\n",
    "        preds = torch.softmax(logits, dim=1)\n",
    "        iou = self.iou_metric(preds, y)\n",
    "        self.log(\"train_loss\", loss)\n",
    "        self.log(\"train_iou\", iou, on_epoch=True, prog_bar=True)\n",
    "        return loss\n",
    "    \n",
    "    def validation_step(self, batch, batch_idx):\n",
    "        x,y = batch\n",
    "        logits = self(x)\n",
    "        loss= self.loss_fn(logits, y)\n",
    "        preds = torch.softmax(logits, dim=1)\n",
    "        iou = self.iou_metric(preds, y)\n",
    "        self.log(\"val_loss\", loss, prog_bar=True)\n",
    "        self.log(\"val_iou\", iou, on_epoch=True, prog_bar=True)\n",
    "    \n",
    "    def configure_optimizers(self):\n",
    "        return torch.optim.Adam(self.parameters(), lr=self.lr)\n",
    "    \n",
    "\n",
    "\n",
    "\n",
    "def get_deeplabv3_lightning(config):\n",
    "        return DeepLabV3Lightning(config=config)"
   ]
  }
 ],
 "metadata": {
  "application/vnd.databricks.v1+notebook": {
   "computePreferences": null,
   "dashboards": [],
   "environmentMetadata": {
    "base_environment": "",
    "environment_version": "2"
   },
   "inputWidgetPreferences": null,
   "language": "python",
   "notebookMetadata": {
    "pythonIndentUnit": 4
   },
   "notebookName": "deeplabv3_lightning.py",
   "widgets": {}
  },
  "language_info": {
   "name": "python"
  }
 },
 "nbformat": 4,
 "nbformat_minor": 0
}

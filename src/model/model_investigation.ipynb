{
 "cells": [
  {
   "cell_type": "markdown",
   "id": "25e24e6f",
   "metadata": {},
   "source": [
    "# Modellvurdering: Segmentering av snuplasser i flyfoto\n",
    "# Eksempel \n",
    "## Mål\n",
    "Velge én eller flere arkitekturer for semantisk segmentering av snuplasser i flyfoto. \n",
    "Vurderingen baseres på ytelse, krav til input, tilgjengelige pretrente vekter og fleksibilitet.\n",
    "\n",
    "---\n",
    "\n",
    "## Oversikt over aktuelle modeller\n",
    "\n",
    "| Modell        | Arkitekturtype     | Pretrained tilgjengelig | Typisk input-størrelse | Vekt  | Kommentar |\n",
    "|---------------|--------------------|---------------------------|---------------------------|--------|-----------|\n",
    "| **U-Net**     | CNN (encoder-decoder) | Delvis (f.eks. via `segmentation_models.pytorch`) | Fleksibel (ofte 256–512) | Lav    | God baseline, enkel, lett å modifisere |\n",
    "| **DeepLabV3** | CNN + ASPP         | Ja (COCO, ImageNet via `torchvision`) | 512x512 eller større     | Medium | Bra på detaljer og objektkanter |\n",
    "| **SwinUNet**  | Vision Transformer + U-Net | Ja (medisinsk, via HUGGINGFACE) | Kvadratisk (224–512) | Høy    | Bra ytelse, tregere trening, nyere |\n",
    "| **UNet++**    | Forbedret U-Net    | Delvis                    | 256–512                   | Medium | Bedre på små detaljer, flere hoppforbindelser |\n",
    "| **HRNet**     | Multi-resolusjon   | Ja                        | 512+                      | Høy    | Bra for detaljer, men kompleks |\n",
    "\n",
    "---\n",
    "\n",
    "## Kriterier for vurdering\n",
    "\n",
    "- **Input-størrelse**: Kan modellen ta fleksible dimensjoner? Krever kvadratiske tiles?\n",
    "- **Pretrained weights**: Finnes det ferdigtrente vekter på passende domene?\n",
    "- **Treningshastighet og ressursbruk**: Er modellen trenbar lokalt eller krever den kraftig maskin?\n",
    "- **Generaliserbarhet**: Takler modellen variasjon i terreng og belysning?\n",
    "- **Modifiserbarhet**: Er arkitekturen lett å endre på for fremtidige behov?\n",
    "\n",
    "---\n",
    "\n",
    "## Mulighet for å kombinere modeller\n",
    "\n",
    "- **Ensemble**: Flere modeller stemmer overens (snitt, majority vote)\n",
    "- **Kombinert pipeline**: F.eks. en CNN for grov lokalisering + transformer for fin segmentering\n",
    "- **Stage-basert**: Bruke en modell for bounding box, og en annen for mask\n",
    "\n",
    "---\n",
    "\n",
    "## Neste steg\n",
    "- Test en baseline-modell (U-Net eller DeepLabV3)\n",
    "- Evaluer nøyaktighet og ressursbruk på et mindre testsett\n",
    "- Vurder om mer avanserte modeller gir gevinst i presisjon/robusthet\n",
    "\n",
    "---\n"
   ]
  }
 ],
 "metadata": {
  "language_info": {
   "name": "python"
  }
 },
 "nbformat": 4,
 "nbformat_minor": 5
}

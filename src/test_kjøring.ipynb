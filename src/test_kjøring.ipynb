{
 "cells": [
  {
   "cell_type": "code",
   "execution_count": 0,
   "metadata": {
    "application/vnd.databricks.v1+cell": {
     "cellMetadata": {
      "byteLimit": 2048000,
      "rowLimit": 10000
     },
     "inputWidgets": {},
     "nuid": "504e2b3c-5f96-41bf-83ea-2d01754c01cb",
     "showTitle": false,
     "tableResultSettingsMap": {},
     "title": ""
    }
   },
   "outputs": [],
   "source": [
    "%pip install -r /Workspace/Users/fabian.heflo@kartverket.no/Snuplasser/requirements.txt\n"
   ]
  },
  {
   "cell_type": "code",
   "execution_count": 0,
   "metadata": {
    "application/vnd.databricks.v1+cell": {
     "cellMetadata": {
      "byteLimit": 2048000,
      "rowLimit": 10000
     },
     "inputWidgets": {},
     "nuid": "bc689763-92b8-4215-917f-db512e3348c6",
     "showTitle": false,
     "tableResultSettingsMap": {},
     "title": ""
    }
   },
   "outputs": [],
   "source": [
    "pip list | grep lightning"
   ]
  },
  {
   "cell_type": "code",
   "execution_count": 0,
   "metadata": {
    "application/vnd.databricks.v1+cell": {
     "cellMetadata": {
      "byteLimit": 2048000,
      "rowLimit": 10000
     },
     "inputWidgets": {},
     "nuid": "51fd95c1-2673-42a3-b0f9-b2f19d98ccab",
     "showTitle": false,
     "tableResultSettingsMap": {},
     "title": ""
    }
   },
   "outputs": [],
   "source": [
    "import yaml\n",
    "from dataProcessing.dataset import SnuplassDataset, load_numpy_split_stack\n",
    "\n",
    "# Last inn konfigurasjon\n",
    "with open(\"/Workspace/Users/fabian.heflo@kartverket.no/Snuplasser/src/static.yaml\", \"r\") as f:\n",
    "    config = yaml.safe_load(f)\n",
    "\n",
    "data_cfg = config[\"data\"]\n",
    "\n",
    "# Last inn split\n",
    "train_ids, _, _ = load_numpy_split_stack(\n",
    "    image_dir=data_cfg[\"image_dir\"],\n",
    "    mask_dir=data_cfg[\"mask_dir\"],\n",
    "    dom_dir=data_cfg[\"dom_dir\"],\n",
    "    holdout_size=data_cfg.get(\"holdout_size\", 0.1),\n",
    "    test_size=data_cfg.get(\"val_split\", 0.2),\n",
    "    seed=data_cfg.get(\"seed\", 42),\n",
    ")\n",
    "\n",
    "# Initier datasettet med første ID\n",
    "ds = SnuplassDataset(\n",
    "    image_dir=data_cfg[\"image_dir\"],\n",
    "    mask_dir=data_cfg[\"mask_dir\"],\n",
    "    dom_dir=data_cfg[\"dom_dir\"],\n",
    "    file_list=train_ids[:1],  # ta bare én for test\n",
    ")\n",
    "\n",
    "img, mask = ds[0]\n",
    "print(f\"image dtype: {img.dtype}, shape: {img.shape}\")\n",
    "print(f\"mask dtype: {mask.dtype}, shape: {mask.shape}\")"
   ]
  },
  {
   "cell_type": "code",
   "execution_count": 0,
   "metadata": {
    "application/vnd.databricks.v1+cell": {
     "cellMetadata": {
      "byteLimit": 2048000,
      "rowLimit": 10000
     },
     "inputWidgets": {},
     "nuid": "ee79abd7-5fd3-4400-a63b-290240c066b9",
     "showTitle": false,
     "tableResultSettingsMap": {},
     "title": ""
    }
   },
   "outputs": [],
   "source": [
    "import importlib\n",
    "from model import unet_lightning as ul\n",
    "\n",
    "importlib.reload(ul)\n",
    "\n",
    "model = ul.UNetLightning({\"lr\": 1e-3, \"in_channels\": 4})\n",
    "print(model.loss_fn)\n"
   ]
  },
  {
   "cell_type": "code",
   "execution_count": 0,
   "metadata": {
    "application/vnd.databricks.v1+cell": {
     "cellMetadata": {
      "byteLimit": 2048000,
      "rowLimit": 10000
     },
     "inputWidgets": {},
     "nuid": "89a25920-6954-4674-857a-1f4b623f44e0",
     "showTitle": false,
     "tableResultSettingsMap": {},
     "title": ""
    }
   },
   "outputs": [],
   "source": [
    "import sys\n",
    "sys.path.append(\"/Workspace/Users/fabian.heflo@kartverket.no/Snuplasser/src\")\n",
    "\n",
    "import main\n",
    "import importlib\n",
    "import dataProcessing.dataset\n",
    "importlib.reload(dataProcessing.dataset)\n",
    "importlib.reload(main)\n",
    "\n",
    "main.main(\"/Workspace/Users/fabian.heflo@kartverket.no/Snuplasser/src/static.yaml\")\n"
   ]
  }
 ],
 "metadata": {
  "application/vnd.databricks.v1+notebook": {
   "computePreferences": null,
   "dashboards": [],
   "environmentMetadata": {
    "base_environment": "",
    "environment_version": "2"
   },
   "inputWidgetPreferences": null,
   "language": "python",
   "notebookMetadata": {
    "pythonIndentUnit": 4
   },
   "notebookName": "test_kjøring",
   "widgets": {}
  },
  "language_info": {
   "name": "python"
  }
 },
 "nbformat": 4,
 "nbformat_minor": 0
}

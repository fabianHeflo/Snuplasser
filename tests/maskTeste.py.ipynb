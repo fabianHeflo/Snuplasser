{
 "cells": [
  {
   "cell_type": "code",
   "execution_count": 0,
   "metadata": {
    "application/vnd.databricks.v1+cell": {
     "cellMetadata": {
      "byteLimit": 2048000,
      "rowLimit": 10000
     },
     "inputWidgets": {},
     "nuid": "b801a3cf-dadd-4a44-b9e2-ff655899afb0",
     "showTitle": false,
     "tableResultSettingsMap": {},
     "title": ""
    }
   },
   "outputs": [],
   "source": [
    "%pip install -r /Workspace/Users/enes.topcu@kartverket.no/Snuplasser/requirements.txt"
   ]
  },
  {
   "cell_type": "code",
   "execution_count": 0,
   "metadata": {
    "application/vnd.databricks.v1+cell": {
     "cellMetadata": {
      "byteLimit": 2048000,
      "rowLimit": 10000
     },
     "inputWidgets": {},
     "nuid": "de65c2d0-09d0-4760-b1d9-5eac960c3a80",
     "showTitle": false,
     "tableResultSettingsMap": {},
     "title": ""
    }
   },
   "outputs": [],
   "source": [
    "%pip install scikit-image"
   ]
  },
  {
   "cell_type": "code",
   "execution_count": 0,
   "metadata": {
    "application/vnd.databricks.v1+cell": {
     "cellMetadata": {
      "byteLimit": 2048000,
      "rowLimit": 10000
     },
     "inputWidgets": {},
     "nuid": "6ddbbcbc-31b4-4cdc-88ca-de01ea6c7064",
     "showTitle": false,
     "tableResultSettingsMap": {},
     "title": ""
    }
   },
   "outputs": [],
   "source": [
    "spark.sql(\"SHOW DATABASES\").show()\n",
    "spark.sql(\"SHOW TABLES IN `land_topografisk-gdb_dev`.ai2025\").show()\n"
   ]
  },
  {
   "cell_type": "code",
   "execution_count": 0,
   "metadata": {
    "application/vnd.databricks.v1+cell": {
     "cellMetadata": {
      "byteLimit": 2048000,
      "rowLimit": 10000
     },
     "inputWidgets": {},
     "nuid": "2b681613-edbb-4e8b-9553-a96bf0d9e947",
     "showTitle": false,
     "tableResultSettingsMap": {},
     "title": ""
    }
   },
   "outputs": [],
   "source": [
    "from pathlib import Path\n",
    "import traceback\n",
    "from src.dataProcessing.mask_to_geojson import mask_to_geojson\n",
    "\n",
    "# 📥 Maskelerin bulunduğu klasör\n",
    "predicted_mask_dir = Path(\"/Workspace/Users/enes.topcu@kartverket.no/Snuplasser/src/predicted_binary_masks\")\n",
    "\n",
    "# 📤 GeoJSON çıktılarının yazılacağı klasör\n",
    "geojson_output_dir = Path(\"/Volumes/land_topografisk-gdb_dev/external_dev/static_data/DL_SNUPLASSER/predicted_masks\")\n",
    "\n",
    "# 🖼️ Test edilecek maske dosyası\n",
    "mask_filename = \"preMask_cb5363cd73589d13f02b287374c4be493aa5956192dde2309c7f198693f0a8ac.png\"\n",
    "mask_path = predicted_mask_dir / mask_filename\n",
    "\n",
    "# ✅ Maske mevcutsa işle\n",
    "if mask_path.exists():\n",
    "    print(f\"▶️ Test başlıyor: {mask_path}\")\n",
    "    try:\n",
    "        mask_to_geojson(str(mask_path), output_dir=geojson_output_dir)\n",
    "        print(f\"✅ Başarılı: {mask_path.name}\")\n",
    "    except Exception as e:\n",
    "        print(f\"❌ Hata: {mask_path.name} → {e}\")\n",
    "        traceback.print_exc()\n",
    "else:\n",
    "    print(f\"⚠️ Maske dosyası bulunamadı: {mask_path}\")\n",
    "\n",
    "\n",
    "\n",
    "\n"
   ]
  }
 ],
 "metadata": {
  "application/vnd.databricks.v1+notebook": {
   "computePreferences": null,
   "dashboards": [],
   "environmentMetadata": {
    "base_environment": "",
    "environment_version": "2"
   },
   "inputWidgetPreferences": null,
   "language": "python",
   "notebookMetadata": {
    "pythonIndentUnit": 4
   },
   "notebookName": "maskTeste.py",
   "widgets": {}
  },
  "language_info": {
   "name": "python"
  }
 },
 "nbformat": 4,
 "nbformat_minor": 0
}
